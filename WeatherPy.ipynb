{
 "cells": [
  {
   "cell_type": "markdown",
   "metadata": {},
   "source": [
    "## WeatherPy"
   ]
  },
  {
   "cell_type": "markdown",
   "metadata": {},
   "source": [
    "### Analysis\n",
    "\n",
    "As suspected, the weather becomes warmer the closer you get to the equator (0 degrees latitude). There are some spikes in temperature between 20 degrees and 40 degrees latitude.\n",
    "\n",
    "Neither humiditiy, cloudiness nor wind speed have direct relationships with the latitude. This applies to both the Northern Hemisphere (greater than or equal to 0 degrees latitude) and Southern Hemisphere (less than 0 degrees latitude).\n",
    "\n",
    "There is a negative correlation between temperature and latitude. The further away from the equator (0 degrees latitude), the lower the temperature.\n",
    "\n",
    "There is a positive correlation between latitude and max temperature. The closer you get to the equator (0 degrees latitude), the higher the temperature."
   ]
  },
  {
   "cell_type": "code",
   "execution_count": 1,
   "metadata": {},
   "outputs": [],
   "source": [
    "# Dependencies and Setup\n",
    "import matplotlib.pyplot as plt\n",
    "import pandas as pd\n",
    "import numpy as np\n",
    "import requests\n",
    "import time\n",
    "from scipy.stats import linregress\n",
    "\n",
    "# Import API key\n",
    "from api_keys import gkey\n",
    "\n",
    "# Output File (CSV)\n",
    "output_data_file = \"output_data/cities.csv\"\n",
    "\n",
    "# Range of latitudes and longitudes\n",
    "lat_range = (-90, 90)\n",
    "lng_range = (-180, 180)"
   ]
  },
  {
   "cell_type": "markdown",
   "metadata": {},
   "source": [
    "## Generate Cities List"
   ]
  },
  {
   "cell_type": "code",
   "execution_count": 2,
   "metadata": {},
   "outputs": [
    {
     "data": {
      "text/plain": [
       "601"
      ]
     },
     "execution_count": 2,
     "metadata": {},
     "output_type": "execute_result"
    }
   ],
   "source": [
    "# List for holding lat_lngs and cities\n",
    "lat_lngs = []\n",
    "cities = []\n",
    "\n",
    "# Create a set of random lat and lng combinations\n",
    "lats = np.random.uniform(lat_range[0], lat_range[1], size = 1500)\n",
    "lngs = np.random.uniform(lng_range[0], lng_range[1], size = 1500)\n",
    "lat_lngs = zip(lats, lngs)\n",
    "\n",
    "# Identify nearest city for each lat, lng combination\n",
    "for lat_lng in lat_lngs:\n",
    "    city = citipy.nearest_city(lat_lng[0], lat_lng[1]).city_name\n",
    "    \n",
    "    # If the city is unique, then add it to a our cities list\n",
    "    if city not in cities:\n",
    "        cities.append(city)\n",
    "\n",
    "\n",
    "# Print the city count to confirm sufficient count\n",
    "len(cities)"
   ]
  },
  {
   "cell_type": "markdown",
   "metadata": {},
   "source": [
    "## Perform API Calls"
   ]
  },
  {
   "cell_type": "code",
   "execution_count": 3,
   "metadata": {},
   "outputs": [
    {
     "name": "stdout",
     "output_type": "stream",
     "text": [
      "Beginning Data Retrieval     \n",
      "-----------------------------\n",
      "Processing Record 1 of Set 1 | hermanus\n",
      "Processing Record 2 of Set 1 | saskylakh\n",
      "Processing Record 3 of Set 1 | illoqqortoormiut\n",
      "City not found. Skipping...\n",
      "Processing Record 4 of Set 1 | thompson\n",
      "Processing Record 5 of Set 1 | bolungarvik\n",
      "City not found. Skipping...\n",
      "Processing Record 6 of Set 1 | rikitea\n",
      "Processing Record 7 of Set 1 | hobart\n",
      "Processing Record 8 of Set 1 | mataura\n",
      "Processing Record 9 of Set 1 | salavat\n",
      "Processing Record 10 of Set 1 | airai\n",
      "Processing Record 11 of Set 1 | krabi\n",
      "Processing Record 12 of Set 1 | aripuana\n",
      "Processing Record 13 of Set 1 | ahipara\n",
      "Processing Record 14 of Set 1 | busselton\n",
      "Processing Record 15 of Set 1 | vaini\n",
      "Processing Record 16 of Set 1 | cape town\n",
      "Processing Record 17 of Set 1 | codrington\n",
      "Processing Record 18 of Set 1 | kapaa\n",
      "Processing Record 19 of Set 1 | hithadhoo\n",
      "Processing Record 20 of Set 1 | stornoway\n",
      "Processing Record 21 of Set 1 | carnarvon\n",
      "Processing Record 22 of Set 1 | makat\n",
      "Processing Record 23 of Set 1 | yongzhou\n",
      "Processing Record 24 of Set 1 | ushuaia\n",
      "Processing Record 25 of Set 1 | port-gentil\n",
      "Processing Record 26 of Set 1 | murgab\n",
      "Processing Record 27 of Set 1 | chernyshevskiy\n",
      "Processing Record 28 of Set 1 | hobyo\n",
      "Processing Record 29 of Set 1 | barrow\n",
      "Processing Record 30 of Set 1 | lebu\n",
      "Processing Record 31 of Set 1 | sisimiut\n",
      "Processing Record 32 of Set 1 | bluff\n",
      "Processing Record 33 of Set 1 | qaanaaq\n",
      "Processing Record 34 of Set 1 | albany\n",
      "Processing Record 35 of Set 1 | ambilobe\n",
      "Processing Record 36 of Set 1 | narsaq\n",
      "Processing Record 37 of Set 1 | montes altos\n",
      "Processing Record 38 of Set 1 | kentau\n",
      "Processing Record 39 of Set 1 | namibe\n",
      "Processing Record 40 of Set 1 | atuona\n",
      "Processing Record 41 of Set 1 | vanimo\n",
      "Processing Record 42 of Set 1 | salinas\n",
      "Processing Record 43 of Set 1 | sitka\n",
      "Processing Record 44 of Set 1 | bredasdorp\n",
      "Processing Record 45 of Set 1 | punta arenas\n",
      "Processing Record 46 of Set 1 | cherskiy\n",
      "Processing Record 47 of Set 1 | bengkulu\n",
      "Processing Record 48 of Set 1 | yellowknife\n",
      "Processing Record 49 of Set 1 | rawson\n",
      "Processing Record 50 of Set 1 | jamestown\n",
      "Processing Record 0 of Set 2 | naze\n",
      "Processing Record 1 of Set 2 | new norfolk\n",
      "Processing Record 2 of Set 2 | taolanaro\n",
      "City not found. Skipping...\n",
      "Processing Record 3 of Set 2 | guerrero negro\n",
      "Processing Record 4 of Set 2 | kamalasai\n",
      "Processing Record 5 of Set 2 | tuktoyaktuk\n",
      "Processing Record 6 of Set 2 | kiunga\n",
      "Processing Record 7 of Set 2 | kabinda\n",
      "Processing Record 8 of Set 2 | manyana\n",
      "Processing Record 9 of Set 2 | bethel\n",
      "Processing Record 10 of Set 2 | chivay\n",
      "Processing Record 11 of Set 2 | loma alta\n",
      "Processing Record 12 of Set 2 | faanui\n",
      "Processing Record 13 of Set 2 | kodiak\n",
      "Processing Record 14 of Set 2 | butaritari\n",
      "Processing Record 15 of Set 2 | lamu\n",
      "Processing Record 16 of Set 2 | lavrentiya\n",
      "Processing Record 17 of Set 2 | invermere\n",
      "Processing Record 18 of Set 2 | saint-philippe\n",
      "Processing Record 19 of Set 2 | arraial do cabo\n",
      "Processing Record 20 of Set 2 | udachnyy\n",
      "Processing Record 21 of Set 2 | sorland\n",
      "Processing Record 22 of Set 2 | iracoubo\n",
      "Processing Record 23 of Set 2 | vaitupu\n",
      "City not found. Skipping...\n",
      "Processing Record 24 of Set 2 | mys shmidta\n",
      "City not found. Skipping...\n",
      "Processing Record 25 of Set 2 | shakawe\n",
      "Processing Record 26 of Set 2 | lufilufi\n",
      "Processing Record 27 of Set 2 | cayenne\n",
      "Processing Record 28 of Set 2 | berlevag\n",
      "Processing Record 29 of Set 2 | port elizabeth\n",
      "Processing Record 30 of Set 2 | bundaberg\n",
      "Processing Record 31 of Set 2 | lushunkou\n",
      "City not found. Skipping...\n",
      "Processing Record 32 of Set 2 | tidore\n",
      "City not found. Skipping...\n",
      "Processing Record 33 of Set 2 | barentsburg\n",
      "City not found. Skipping...\n",
      "Processing Record 34 of Set 2 | abha\n",
      "Processing Record 35 of Set 2 | east london\n",
      "Processing Record 36 of Set 2 | port alfred\n",
      "Processing Record 37 of Set 2 | katsuura\n",
      "Processing Record 38 of Set 2 | tawkar\n",
      "City not found. Skipping...\n",
      "Processing Record 39 of Set 2 | havre-saint-pierre\n",
      "Processing Record 40 of Set 2 | sao paulo de olivenca\n",
      "Processing Record 41 of Set 2 | amapa\n",
      "Processing Record 42 of Set 2 | beringovskiy\n",
      "Processing Record 43 of Set 2 | praia\n",
      "Processing Record 44 of Set 2 | wahran\n",
      "City not found. Skipping...\n",
      "Processing Record 45 of Set 2 | charters towers\n",
      "Processing Record 46 of Set 2 | jizan\n",
      "Processing Record 47 of Set 2 | ubatuba\n",
      "Processing Record 48 of Set 2 | byron bay\n",
      "Processing Record 49 of Set 2 | coquimbo\n",
      "Processing Record 0 of Set 3 | meulaboh\n",
      "Processing Record 1 of Set 3 | bathsheba\n",
      "Processing Record 2 of Set 3 | tarakan\n",
      "Processing Record 3 of Set 3 | luderitz\n",
      "Processing Record 4 of Set 3 | urumqi\n",
      "Processing Record 5 of Set 3 | maceio\n",
      "Processing Record 6 of Set 3 | half moon bay\n",
      "Processing Record 7 of Set 3 | tsihombe\n",
      "City not found. Skipping...\n",
      "Processing Record 8 of Set 3 | grindavik\n",
      "Processing Record 9 of Set 3 | puerto ayora\n",
      "Processing Record 10 of Set 3 | castro\n",
      "Processing Record 11 of Set 3 | terrace bay\n",
      "Processing Record 12 of Set 3 | fortuna\n",
      "Processing Record 13 of Set 3 | chokurdakh\n",
      "Processing Record 14 of Set 3 | vao\n",
      "Processing Record 15 of Set 3 | labuhan\n",
      "Processing Record 16 of Set 3 | belushya guba\n",
      "City not found. Skipping...\n",
      "Processing Record 17 of Set 3 | dongsheng\n",
      "Processing Record 18 of Set 3 | mahebourg\n",
      "Processing Record 19 of Set 3 | vestmannaeyjar\n",
      "Processing Record 20 of Set 3 | constitucion\n",
      "Processing Record 21 of Set 3 | praia da vitoria\n",
      "Processing Record 22 of Set 3 | victor harbor\n",
      "Processing Record 23 of Set 3 | kruisfontein\n",
      "Processing Record 24 of Set 3 | husavik\n",
      "Processing Record 25 of Set 3 | lauder\n",
      "Processing Record 26 of Set 3 | huarmey\n",
      "Processing Record 27 of Set 3 | carballo\n",
      "Processing Record 28 of Set 3 | ust-kamchatsk\n",
      "City not found. Skipping...\n",
      "Processing Record 29 of Set 3 | bitung\n",
      "Processing Record 30 of Set 3 | lephepe\n",
      "City not found. Skipping...\n",
      "Processing Record 31 of Set 3 | quelimane\n",
      "Processing Record 32 of Set 3 | nieuw amsterdam\n",
      "Processing Record 33 of Set 3 | khatanga\n",
      "Processing Record 34 of Set 3 | flinders\n",
      "Processing Record 35 of Set 3 | saint-pierre\n",
      "Processing Record 36 of Set 3 | watertown\n",
      "Processing Record 37 of Set 3 | bambous virieux\n",
      "Processing Record 38 of Set 3 | sorvag\n",
      "City not found. Skipping...\n",
      "Processing Record 39 of Set 3 | grand centre\n",
      "City not found. Skipping...\n",
      "Processing Record 40 of Set 3 | cap malheureux\n",
      "Processing Record 41 of Set 3 | corum\n",
      "Processing Record 42 of Set 3 | hilo\n",
      "Processing Record 43 of Set 3 | srednekolymsk\n",
      "Processing Record 44 of Set 3 | san antonio\n",
      "Processing Record 45 of Set 3 | banda aceh\n",
      "Processing Record 46 of Set 3 | palabuhanratu\n",
      "City not found. Skipping...\n",
      "Processing Record 47 of Set 3 | viedma\n",
      "Processing Record 48 of Set 3 | coihaique\n",
      "Processing Record 49 of Set 3 | povarovo\n",
      "Processing Record 0 of Set 4 | aykhal\n",
      "Processing Record 1 of Set 4 | danielskuil\n",
      "Processing Record 2 of Set 4 | porto torres\n",
      "Processing Record 3 of Set 4 | mahibadhoo\n",
      "Processing Record 4 of Set 4 | turtkul\n",
      "City not found. Skipping...\n",
      "Processing Record 5 of Set 4 | geraldton\n",
      "Processing Record 6 of Set 4 | boa vista\n",
      "Processing Record 7 of Set 4 | elizabeth city\n",
      "Processing Record 8 of Set 4 | tezu\n",
      "Processing Record 9 of Set 4 | shingu\n",
      "Processing Record 10 of Set 4 | ilulissat\n",
      "Processing Record 11 of Set 4 | karratha\n",
      "Processing Record 12 of Set 4 | pevek\n",
      "Processing Record 13 of Set 4 | samusu\n",
      "City not found. Skipping...\n",
      "Processing Record 14 of Set 4 | grenada\n",
      "Processing Record 15 of Set 4 | masumbwe\n",
      "Processing Record 16 of Set 4 | ostersund\n",
      "Processing Record 17 of Set 4 | nioro\n",
      "Processing Record 18 of Set 4 | warri\n",
      "Processing Record 19 of Set 4 | tiksi\n",
      "Processing Record 20 of Set 4 | tasiilaq\n",
      "Processing Record 21 of Set 4 | pierre\n",
      "Processing Record 22 of Set 4 | rupert\n",
      "Processing Record 23 of Set 4 | tessalit\n",
      "Processing Record 24 of Set 4 | tumannyy\n",
      "City not found. Skipping...\n",
      "Processing Record 25 of Set 4 | la rioja\n",
      "Processing Record 26 of Set 4 | burla\n",
      "Processing Record 27 of Set 4 | okitipupa\n",
      "Processing Record 28 of Set 4 | hasaki\n",
      "Processing Record 29 of Set 4 | villefontaine\n",
      "Processing Record 30 of Set 4 | severo-kurilsk\n",
      "Processing Record 31 of Set 4 | dasoguz\n",
      "Processing Record 32 of Set 4 | zhanaozen\n",
      "Processing Record 33 of Set 4 | palo alto\n"
     ]
    },
    {
     "name": "stdout",
     "output_type": "stream",
     "text": [
      "Processing Record 34 of Set 4 | beloha\n",
      "Processing Record 35 of Set 4 | kaniama\n",
      "Processing Record 36 of Set 4 | torbay\n",
      "Processing Record 37 of Set 4 | akyab\n",
      "Processing Record 38 of Set 4 | grand gaube\n",
      "Processing Record 39 of Set 4 | tirthahalli\n",
      "Processing Record 40 of Set 4 | mindelo\n",
      "Processing Record 41 of Set 4 | aberdeen\n",
      "Processing Record 42 of Set 4 | kavieng\n",
      "Processing Record 43 of Set 4 | omboue\n",
      "Processing Record 44 of Set 4 | saleaula\n",
      "City not found. Skipping...\n",
      "Processing Record 45 of Set 4 | saint george\n",
      "Processing Record 46 of Set 4 | tshane\n",
      "Processing Record 47 of Set 4 | at-bashi\n",
      "Processing Record 48 of Set 4 | mar del plata\n",
      "Processing Record 49 of Set 4 | buchanan\n",
      "Processing Record 0 of Set 5 | ugento\n",
      "Processing Record 1 of Set 5 | itarema\n",
      "Processing Record 2 of Set 5 | gizo\n",
      "Processing Record 3 of Set 5 | yulara\n",
      "Processing Record 4 of Set 5 | puerto escondido\n",
      "Processing Record 5 of Set 5 | kegayli\n",
      "City not found. Skipping...\n",
      "Processing Record 6 of Set 5 | arlit\n",
      "Processing Record 7 of Set 5 | saint-francois\n",
      "Processing Record 8 of Set 5 | tautira\n",
      "Processing Record 9 of Set 5 | moerai\n",
      "Processing Record 10 of Set 5 | rio grande\n",
      "Processing Record 11 of Set 5 | santa maria\n",
      "Processing Record 12 of Set 5 | dikson\n",
      "Processing Record 13 of Set 5 | lorengau\n",
      "Processing Record 14 of Set 5 | sinjar\n",
      "Processing Record 15 of Set 5 | la ronge\n",
      "Processing Record 16 of Set 5 | nizhneyansk\n",
      "City not found. Skipping...\n",
      "Processing Record 17 of Set 5 | delano\n",
      "Processing Record 18 of Set 5 | kenora\n",
      "Processing Record 19 of Set 5 | portland\n",
      "Processing Record 20 of Set 5 | nyurba\n",
      "Processing Record 21 of Set 5 | chuy\n",
      "Processing Record 22 of Set 5 | astoria\n",
      "Processing Record 23 of Set 5 | moussoro\n",
      "Processing Record 24 of Set 5 | boguchany\n",
      "Processing Record 25 of Set 5 | menongue\n",
      "Processing Record 26 of Set 5 | butembo\n",
      "Processing Record 27 of Set 5 | bolshiye uki\n",
      "City not found. Skipping...\n",
      "Processing Record 28 of Set 5 | yumen\n",
      "Processing Record 29 of Set 5 | leningradskiy\n",
      "Processing Record 30 of Set 5 | kasongo-lunda\n",
      "Processing Record 31 of Set 5 | college\n",
      "Processing Record 32 of Set 5 | epe\n",
      "Processing Record 33 of Set 5 | tateyama\n",
      "Processing Record 34 of Set 5 | saint-joseph\n",
      "Processing Record 35 of Set 5 | pangai\n",
      "Processing Record 36 of Set 5 | mount gambier\n",
      "Processing Record 37 of Set 5 | bereda\n",
      "Processing Record 38 of Set 5 | khonuu\n",
      "City not found. Skipping...\n",
      "Processing Record 39 of Set 5 | amderma\n",
      "City not found. Skipping...\n",
      "Processing Record 40 of Set 5 | cidreira\n",
      "Processing Record 41 of Set 5 | strathmore\n",
      "Processing Record 42 of Set 5 | seoul\n",
      "Processing Record 43 of Set 5 | salinopolis\n",
      "Processing Record 44 of Set 5 | jiangyou\n",
      "Processing Record 45 of Set 5 | paragominas\n",
      "Processing Record 46 of Set 5 | waynesville\n",
      "Processing Record 47 of Set 5 | the valley\n",
      "Processing Record 48 of Set 5 | mogadishu\n",
      "Processing Record 49 of Set 5 | weligama\n",
      "Processing Record 0 of Set 6 | alofi\n",
      "Processing Record 1 of Set 6 | emerald\n",
      "Processing Record 2 of Set 6 | ribeira grande\n",
      "Processing Record 3 of Set 6 | berbera\n",
      "Processing Record 4 of Set 6 | kungurtug\n",
      "Processing Record 5 of Set 6 | kashi\n",
      "Processing Record 6 of Set 6 | kaeo\n",
      "Processing Record 7 of Set 6 | campo grande\n",
      "Processing Record 8 of Set 6 | tevriz\n",
      "Processing Record 9 of Set 6 | simpang\n",
      "Processing Record 10 of Set 6 | lingao\n",
      "Processing Record 11 of Set 6 | san quintin\n",
      "Processing Record 12 of Set 6 | karaul\n",
      "City not found. Skipping...\n",
      "Processing Record 13 of Set 6 | ust-nera\n",
      "Processing Record 14 of Set 6 | middle island\n",
      "Processing Record 15 of Set 6 | kokoda\n",
      "Processing Record 16 of Set 6 | inderborskiy\n",
      "City not found. Skipping...\n",
      "Processing Record 17 of Set 6 | birjand\n",
      "Processing Record 18 of Set 6 | george\n",
      "Processing Record 19 of Set 6 | nunoa\n",
      "Processing Record 20 of Set 6 | haines junction\n",
      "Processing Record 21 of Set 6 | newcastle\n",
      "Processing Record 22 of Set 6 | kazerun\n",
      "Processing Record 23 of Set 6 | upernavik\n",
      "Processing Record 24 of Set 6 | tabou\n",
      "Processing Record 25 of Set 6 | aklavik\n",
      "Processing Record 26 of Set 6 | sola\n",
      "Processing Record 27 of Set 6 | pontes e lacerda\n",
      "Processing Record 28 of Set 6 | ust-kuyga\n",
      "Processing Record 29 of Set 6 | piskivka\n",
      "Processing Record 30 of Set 6 | blackwater\n",
      "Processing Record 31 of Set 6 | umzimvubu\n",
      "City not found. Skipping...\n",
      "Processing Record 32 of Set 6 | caravelas\n",
      "Processing Record 33 of Set 6 | georgetown\n",
      "Processing Record 34 of Set 6 | tuatapere\n",
      "Processing Record 35 of Set 6 | rio gallegos\n",
      "Processing Record 36 of Set 6 | nikolskoye\n",
      "Processing Record 37 of Set 6 | deer lake\n",
      "Processing Record 38 of Set 6 | biak\n",
      "Processing Record 39 of Set 6 | chuncheng\n",
      "Processing Record 40 of Set 6 | ponta do sol\n",
      "Processing Record 41 of Set 6 | kaitangata\n",
      "Processing Record 42 of Set 6 | gaoual\n",
      "Processing Record 43 of Set 6 | dvinskoy\n",
      "Processing Record 44 of Set 6 | gat\n",
      "Processing Record 45 of Set 6 | pita\n",
      "Processing Record 46 of Set 6 | newport\n",
      "Processing Record 47 of Set 6 | santiago del estero\n",
      "Processing Record 48 of Set 6 | am timan\n",
      "Processing Record 49 of Set 6 | namatanai\n",
      "Processing Record 0 of Set 7 | trojes\n",
      "Processing Record 1 of Set 7 | kapit\n",
      "Processing Record 2 of Set 7 | angoram\n",
      "Processing Record 3 of Set 7 | le port\n",
      "Processing Record 4 of Set 7 | paranaiba\n",
      "Processing Record 5 of Set 7 | cockburn town\n",
      "Processing Record 6 of Set 7 | phalaborwa\n",
      "Processing Record 7 of Set 7 | kandara\n",
      "Processing Record 8 of Set 7 | yeletskiy\n",
      "City not found. Skipping...\n",
      "Processing Record 9 of Set 7 | lerwick\n",
      "Processing Record 10 of Set 7 | attawapiskat\n",
      "City not found. Skipping...\n",
      "Processing Record 11 of Set 7 | aktash\n",
      "Processing Record 12 of Set 7 | diamantino\n",
      "Processing Record 13 of Set 7 | scottsboro\n",
      "Processing Record 14 of Set 7 | inhambane\n",
      "Processing Record 15 of Set 7 | umm kaddadah\n",
      "Processing Record 16 of Set 7 | bari\n",
      "Processing Record 17 of Set 7 | soyo\n",
      "Processing Record 18 of Set 7 | iqaluit\n",
      "Processing Record 19 of Set 7 | igarka\n",
      "Processing Record 20 of Set 7 | lyaskelya\n",
      "Processing Record 21 of Set 7 | kiruna\n",
      "Processing Record 22 of Set 7 | buin\n",
      "Processing Record 23 of Set 7 | wladyslawowo\n",
      "Processing Record 24 of Set 7 | gerede\n",
      "Processing Record 25 of Set 7 | rungata\n",
      "City not found. Skipping...\n",
      "Processing Record 26 of Set 7 | garissa\n",
      "Processing Record 27 of Set 7 | tiznit\n",
      "Processing Record 28 of Set 7 | waipawa\n",
      "Processing Record 29 of Set 7 | batticaloa\n",
      "Processing Record 30 of Set 7 | cabo san lucas\n",
      "Processing Record 31 of Set 7 | katastarion\n",
      "Processing Record 32 of Set 7 | vila velha\n",
      "Processing Record 33 of Set 7 | trelew\n",
      "Processing Record 34 of Set 7 | dawlatabad\n",
      "Processing Record 35 of Set 7 | luanda\n",
      "Processing Record 36 of Set 7 | marcona\n",
      "City not found. Skipping...\n",
      "Processing Record 37 of Set 7 | novoagansk\n",
      "Processing Record 38 of Set 7 | tukrah\n",
      "Processing Record 39 of Set 7 | avarua\n",
      "Processing Record 40 of Set 7 | kutum\n",
      "Processing Record 41 of Set 7 | ngukurr\n",
      "City not found. Skipping...\n",
      "Processing Record 42 of Set 7 | miri\n",
      "Processing Record 43 of Set 7 | bonthe\n",
      "Processing Record 44 of Set 7 | poum\n",
      "Processing Record 45 of Set 7 | longyearbyen\n",
      "Processing Record 46 of Set 7 | tambul\n",
      "City not found. Skipping...\n",
      "Processing Record 47 of Set 7 | bambanglipuro\n",
      "Processing Record 48 of Set 7 | milingimbi\n",
      "City not found. Skipping...\n",
      "Processing Record 49 of Set 7 | kirakira\n",
      "Processing Record 0 of Set 8 | sept-iles\n",
      "Processing Record 1 of Set 8 | tucuman\n",
      "Processing Record 2 of Set 8 | souillac\n",
      "Processing Record 3 of Set 8 | yar-sale\n",
      "Processing Record 4 of Set 8 | nemuro\n",
      "Processing Record 5 of Set 8 | maarianhamina\n",
      "Processing Record 6 of Set 8 | louisbourg\n",
      "City not found. Skipping...\n",
      "Processing Record 7 of Set 8 | faya\n",
      "Processing Record 8 of Set 8 | panorama\n",
      "Processing Record 9 of Set 8 | basco\n",
      "Processing Record 10 of Set 8 | nijar\n",
      "Processing Record 11 of Set 8 | provideniya\n",
      "Processing Record 12 of Set 8 | ugoofaaru\n",
      "Processing Record 13 of Set 8 | raudeberg\n",
      "Processing Record 14 of Set 8 | saryshagan\n",
      "City not found. Skipping...\n",
      "Processing Record 15 of Set 8 | cosala\n",
      "Processing Record 16 of Set 8 | higuey\n",
      "City not found. Skipping...\n",
      "Processing Record 17 of Set 8 | ucluelet\n",
      "Processing Record 18 of Set 8 | belyy yar\n",
      "Processing Record 19 of Set 8 | kahului\n",
      "Processing Record 20 of Set 8 | shima\n",
      "Processing Record 21 of Set 8 | norman wells\n",
      "Processing Record 22 of Set 8 | wanaka\n"
     ]
    },
    {
     "name": "stdout",
     "output_type": "stream",
     "text": [
      "Processing Record 23 of Set 8 | sentyabrskiy\n",
      "City not found. Skipping...\n",
      "Processing Record 24 of Set 8 | saldanha\n",
      "Processing Record 25 of Set 8 | brufut\n",
      "Processing Record 26 of Set 8 | zhigansk\n",
      "Processing Record 27 of Set 8 | kleck\n",
      "City not found. Skipping...\n",
      "Processing Record 28 of Set 8 | kantemirovka\n",
      "Processing Record 29 of Set 8 | bady bassitt\n",
      "Processing Record 30 of Set 8 | harper\n",
      "Processing Record 31 of Set 8 | vestmanna\n",
      "Processing Record 32 of Set 8 | ituango\n",
      "Processing Record 33 of Set 8 | severnoye\n",
      "Processing Record 34 of Set 8 | maltahohe\n",
      "Processing Record 35 of Set 8 | port-cartier\n",
      "Processing Record 36 of Set 8 | smithers\n",
      "Processing Record 37 of Set 8 | sao jose da coroa grande\n",
      "Processing Record 38 of Set 8 | meyungs\n",
      "City not found. Skipping...\n",
      "Processing Record 39 of Set 8 | mayo\n",
      "Processing Record 40 of Set 8 | nago\n",
      "Processing Record 41 of Set 8 | muros\n",
      "Processing Record 42 of Set 8 | victoria\n",
      "Processing Record 43 of Set 8 | noyabrsk\n",
      "Processing Record 44 of Set 8 | senftenberg\n",
      "Processing Record 45 of Set 8 | kingston\n",
      "Processing Record 46 of Set 8 | avera\n",
      "Processing Record 47 of Set 8 | candido mendes\n",
      "Processing Record 48 of Set 8 | talnakh\n",
      "Processing Record 49 of Set 8 | pisco\n",
      "Processing Record 0 of Set 9 | lalomanu\n",
      "City not found. Skipping...\n",
      "Processing Record 1 of Set 9 | kavaratti\n",
      "Processing Record 2 of Set 9 | chingirlau\n",
      "Processing Record 3 of Set 9 | nanortalik\n",
      "Processing Record 4 of Set 9 | mehran\n",
      "Processing Record 5 of Set 9 | lompoc\n",
      "Processing Record 6 of Set 9 | dingle\n",
      "Processing Record 7 of Set 9 | payo\n",
      "Processing Record 8 of Set 9 | ruteng\n",
      "Processing Record 9 of Set 9 | lagoa\n",
      "Processing Record 10 of Set 9 | vardo\n",
      "Processing Record 11 of Set 9 | bubaque\n",
      "Processing Record 12 of Set 9 | nelson bay\n",
      "Processing Record 13 of Set 9 | clyde river\n",
      "Processing Record 14 of Set 9 | esperance\n",
      "Processing Record 15 of Set 9 | unguia\n",
      "Processing Record 16 of Set 9 | el mahalla el kubra\n",
      "City not found. Skipping...\n",
      "Processing Record 17 of Set 9 | oppdal\n",
      "Processing Record 18 of Set 9 | labutta\n",
      "City not found. Skipping...\n",
      "Processing Record 19 of Set 9 | gornoye loo\n",
      "Processing Record 20 of Set 9 | tallahassee\n",
      "Processing Record 21 of Set 9 | komsomolskiy\n",
      "Processing Record 22 of Set 9 | oeiras\n",
      "Processing Record 23 of Set 9 | nador\n",
      "Processing Record 24 of Set 9 | mapiripan\n",
      "Processing Record 25 of Set 9 | wagar\n",
      "Processing Record 26 of Set 9 | moba\n",
      "Processing Record 27 of Set 9 | altay\n",
      "Processing Record 28 of Set 9 | saint anthony\n",
      "Processing Record 29 of Set 9 | kalemie\n",
      "Processing Record 30 of Set 9 | miraflores\n",
      "Processing Record 31 of Set 9 | mitsamiouli\n",
      "Processing Record 32 of Set 9 | hirara\n",
      "Processing Record 33 of Set 9 | pio xii\n",
      "Processing Record 34 of Set 9 | healdsburg\n",
      "Processing Record 35 of Set 9 | linapacan\n",
      "City not found. Skipping...\n",
      "Processing Record 36 of Set 9 | paita\n",
      "Processing Record 37 of Set 9 | klaksvik\n",
      "Processing Record 38 of Set 9 | nishihara\n",
      "Processing Record 39 of Set 9 | le moule\n",
      "Processing Record 40 of Set 9 | lasa\n",
      "Processing Record 41 of Set 9 | walvis bay\n",
      "Processing Record 42 of Set 9 | pemangkat\n",
      "Processing Record 43 of Set 9 | santa cruz\n",
      "Processing Record 44 of Set 9 | nouadhibou\n",
      "Processing Record 45 of Set 9 | sturgeon falls\n",
      "Processing Record 46 of Set 9 | pangkalanbuun\n",
      "Processing Record 47 of Set 9 | tabiauea\n",
      "City not found. Skipping...\n",
      "Processing Record 48 of Set 9 | itaituba\n",
      "Processing Record 49 of Set 9 | san vicente de canete\n",
      "Processing Record 0 of Set 10 | bur gabo\n",
      "City not found. Skipping...\n",
      "Processing Record 1 of Set 10 | loudi\n",
      "Processing Record 2 of Set 10 | nacala\n",
      "Processing Record 3 of Set 10 | isangel\n",
      "Processing Record 4 of Set 10 | mizan teferi\n",
      "Processing Record 5 of Set 10 | yerbogachen\n",
      "Processing Record 6 of Set 10 | piombino\n",
      "Processing Record 7 of Set 10 | lisakovsk\n",
      "Processing Record 8 of Set 10 | nybro\n",
      "Processing Record 9 of Set 10 | prabumulih\n",
      "Processing Record 10 of Set 10 | bojnurd\n",
      "Processing Record 11 of Set 10 | kismayo\n",
      "Processing Record 12 of Set 10 | sur\n",
      "Processing Record 13 of Set 10 | sansai\n",
      "City not found. Skipping...\n",
      "Processing Record 14 of Set 10 | nome\n",
      "Processing Record 15 of Set 10 | asayita\n",
      "City not found. Skipping...\n",
      "Processing Record 16 of Set 10 | riyadh\n",
      "Processing Record 17 of Set 10 | broome\n",
      "Processing Record 18 of Set 10 | boguchar\n",
      "Processing Record 19 of Set 10 | zhuhai\n",
      "Processing Record 20 of Set 10 | vila franca do campo\n",
      "Processing Record 21 of Set 10 | hofn\n",
      "Processing Record 22 of Set 10 | auki\n",
      "Processing Record 23 of Set 10 | fort-shevchenko\n",
      "Processing Record 24 of Set 10 | mackay\n",
      "Processing Record 25 of Set 10 | port hardy\n",
      "Processing Record 26 of Set 10 | paamiut\n",
      "Processing Record 27 of Set 10 | kande\n",
      "Processing Record 28 of Set 10 | wakefield\n",
      "Processing Record 29 of Set 10 | debre tabor\n",
      "Processing Record 30 of Set 10 | funadhoo\n",
      "Processing Record 31 of Set 10 | flin flon\n",
      "Processing Record 32 of Set 10 | santa isabel do rio negro\n",
      "Processing Record 33 of Set 10 | mandal\n",
      "Processing Record 34 of Set 10 | barra do garcas\n",
      "Processing Record 35 of Set 10 | acajutla\n",
      "Processing Record 36 of Set 10 | torres\n",
      "Processing Record 37 of Set 10 | tezpur\n",
      "Processing Record 38 of Set 10 | pala\n",
      "Processing Record 39 of Set 10 | pacific grove\n",
      "Processing Record 40 of Set 10 | pandan\n",
      "Processing Record 41 of Set 10 | petropavlovsk-kamchatskiy\n",
      "Processing Record 42 of Set 10 | valdivia\n",
      "Processing Record 43 of Set 10 | oranjemund\n",
      "Processing Record 44 of Set 10 | zelenoborsk\n",
      "Processing Record 45 of Set 10 | srandakan\n",
      "Processing Record 46 of Set 10 | dzhusaly\n",
      "City not found. Skipping...\n",
      "Processing Record 47 of Set 10 | ambon\n",
      "Processing Record 48 of Set 10 | pauini\n",
      "Processing Record 49 of Set 10 | skjervoy\n",
      "Processing Record 0 of Set 11 | te anau\n",
      "Processing Record 1 of Set 11 | gleisdorf\n",
      "Processing Record 2 of Set 11 | tazovskiy\n",
      "Processing Record 3 of Set 11 | port said\n",
      "Processing Record 4 of Set 11 | sakakah\n",
      "Processing Record 5 of Set 11 | obo\n",
      "Processing Record 6 of Set 11 | ambodifototra\n",
      "City not found. Skipping...\n",
      "Processing Record 7 of Set 11 | oistins\n",
      "Processing Record 8 of Set 11 | kondinskoye\n",
      "Processing Record 9 of Set 11 | lichtenburg\n",
      "Processing Record 10 of Set 11 | garachine\n",
      "Processing Record 11 of Set 11 | finschhafen\n",
      "Processing Record 12 of Set 11 | san patricio\n",
      "Processing Record 13 of Set 11 | port hedland\n",
      "Processing Record 14 of Set 11 | luena\n",
      "Processing Record 15 of Set 11 | sorong\n",
      "Processing Record 16 of Set 11 | loandjili\n",
      "Processing Record 17 of Set 11 | san cristobal\n",
      "Processing Record 18 of Set 11 | kang\n",
      "Processing Record 19 of Set 11 | strezhevoy\n",
      "Processing Record 20 of Set 11 | agadir\n",
      "Processing Record 21 of Set 11 | nchelenge\n",
      "Processing Record 22 of Set 11 | rzhev\n",
      "Processing Record 23 of Set 11 | ixcatepec\n",
      "Processing Record 24 of Set 11 | marienburg\n",
      "Processing Record 25 of Set 11 | nogliki\n",
      "Processing Record 26 of Set 11 | marathon\n",
      "Processing Record 27 of Set 11 | baoro\n",
      "Processing Record 28 of Set 11 | hamilton\n",
      "Processing Record 29 of Set 11 | campbell river\n",
      "Processing Record 30 of Set 11 | kerema\n",
      "Processing Record 31 of Set 11 | tigzirt\n",
      "Processing Record 32 of Set 11 | olinda\n",
      "Processing Record 33 of Set 11 | shache\n",
      "Processing Record 34 of Set 11 | sarakhs\n",
      "Processing Record 35 of Set 11 | asyut\n",
      "Processing Record 36 of Set 11 | camacupa\n",
      "Processing Record 37 of Set 11 | itamaraju\n",
      "Processing Record 38 of Set 11 | kharp\n",
      "Processing Record 39 of Set 11 | novikovo\n",
      "Processing Record 40 of Set 11 | russell\n",
      "Processing Record 41 of Set 11 | pahrump\n",
      "Processing Record 42 of Set 11 | evensk\n",
      "Processing Record 43 of Set 11 | jose de freitas\n",
      "Processing Record 44 of Set 11 | san luis\n",
      "Processing Record 45 of Set 11 | parainen\n",
      "Processing Record 46 of Set 11 | guanambi\n",
      "Processing Record 47 of Set 11 | douentza\n",
      "Processing Record 48 of Set 11 | maputo\n",
      "Processing Record 49 of Set 11 | linxia\n",
      "Processing Record 0 of Set 12 | ruatoria\n",
      "City not found. Skipping...\n",
      "Processing Record 1 of Set 12 | dolbeau\n",
      "City not found. Skipping...\n",
      "Processing Record 2 of Set 12 | zyryanskoye\n",
      "Processing Record 3 of Set 12 | xingyi\n",
      "Processing Record 4 of Set 12 | ardrishaig\n",
      "Processing Record 5 of Set 12 | kedrovyy\n",
      "Processing Record 6 of Set 12 | atakpame\n",
      "Processing Record 7 of Set 12 | fort saint john\n",
      "City not found. Skipping...\n",
      "Processing Record 8 of Set 12 | hovd\n"
     ]
    },
    {
     "name": "stdout",
     "output_type": "stream",
     "text": [
      "Processing Record 9 of Set 12 | berdigestyakh\n",
      "Processing Record 10 of Set 12 | kenai\n",
      "Processing Record 11 of Set 12 | orange cove\n",
      "Processing Record 12 of Set 12 | vitim\n",
      "Processing Record 13 of Set 12 | ogbomosho\n",
      "Processing Record 14 of Set 12 | kawana waters\n",
      "City not found. Skipping...\n",
      "Processing Record 15 of Set 12 | bronnoysund\n",
      "Processing Record 16 of Set 12 | adrar\n",
      "Processing Record 17 of Set 12 | mitu\n",
      "Processing Record 18 of Set 12 | port lincoln\n",
      "Processing Record 19 of Set 12 | timbiqui\n",
      "Processing Record 20 of Set 12 | mentok\n",
      "City not found. Skipping...\n",
      "Processing Record 21 of Set 12 | betioky\n",
      "Processing Record 22 of Set 12 | kiama\n",
      "Processing Record 23 of Set 12 | pangnirtung\n",
      "Processing Record 24 of Set 12 | alugan\n",
      "Processing Record 25 of Set 12 | sumenep\n",
      "Processing Record 26 of Set 12 | brae\n",
      "Processing Record 27 of Set 12 | monterey\n",
      "Processing Record 28 of Set 12 | along\n",
      "Processing Record 29 of Set 12 | pechora\n",
      "Processing Record 30 of Set 12 | san jeronimo\n",
      "Processing Record 31 of Set 12 | sabha\n",
      "Processing Record 32 of Set 12 | ahmadabad\n",
      "Processing Record 33 of Set 12 | dunedin\n",
      "Processing Record 34 of Set 12 | ondorhaan\n",
      "City not found. Skipping...\n",
      "Processing Record 35 of Set 12 | san andres\n",
      "Processing Record 36 of Set 12 | rockport\n",
      "Processing Record 37 of Set 12 | da nang\n",
      "Processing Record 38 of Set 12 | guayaramerin\n",
      "Processing Record 39 of Set 12 | nanakuli\n",
      "Processing Record 40 of Set 12 | lodwar\n",
      "Processing Record 41 of Set 12 | mao\n",
      "Processing Record 42 of Set 12 | koumra\n",
      "Processing Record 43 of Set 12 | sioux lookout\n",
      "Processing Record 44 of Set 12 | chauk\n",
      "Processing Record 45 of Set 12 | pitimbu\n",
      "Processing Record 46 of Set 12 | griffith\n",
      "Processing Record 47 of Set 12 | bonavista\n",
      "Processing Record 48 of Set 12 | lubyany\n",
      "Processing Record 49 of Set 12 | taos\n",
      "Processing Record 0 of Set 13 | muisne\n",
      "-----------------------------\n",
      "Data Retrieval Complete      \n",
      "-----------------------------\n"
     ]
    }
   ],
   "source": [
    "# Starting URL for Weather Map API Call\n",
    "url = \"http://api.openweathermap.org/data/2.5/weather?units=Imperial&APPID=\" + weather_api_key \n",
    "\n",
    "# List of city data\n",
    "city_data = []\n",
    "\n",
    "# Print to logger\n",
    "print(\"Beginning Data Retrieval     \")\n",
    "print(\"-----------------------------\")\n",
    "\n",
    "# Create counters\n",
    "record_count = 1\n",
    "set_count = 1\n",
    "\n",
    "# Loop through all the cities in our list\n",
    "for i, city in enumerate(cities):\n",
    "        \n",
    "    # Group cities in sets of 50 for logging purposes\n",
    "    if (i % 50 == 0 and i >= 50):\n",
    "        set_count += 1\n",
    "        record_count = 0\n",
    "\n",
    "    # Create endpoint URL with each city\n",
    "    city_url = url + \"&q=\" + city\n",
    "    \n",
    "    # Log the url, record, and set numbers\n",
    "    print(\"Processing Record %s of Set %s | %s\" % (record_count, set_count, city))\n",
    "\n",
    "    # Add 1 to the record count\n",
    "    record_count += 1\n",
    "\n",
    "    # Run an API request for each of the cities\n",
    "    try:\n",
    "        # Parse the JSON and retrieve data\n",
    "        city_weather = requests.get(city_url).json()\n",
    "\n",
    "        # Parse out the max temp, humidity, and cloudiness\n",
    "        city_lat = city_weather[\"coord\"][\"lat\"]\n",
    "        city_lng = city_weather[\"coord\"][\"lon\"]\n",
    "        city_max_temp = city_weather[\"main\"][\"temp_max\"]\n",
    "        city_humidity = city_weather[\"main\"][\"humidity\"]\n",
    "        city_clouds = city_weather[\"clouds\"][\"all\"]\n",
    "        city_wind = city_weather[\"wind\"][\"speed\"]\n",
    "        city_country = city_weather[\"sys\"][\"country\"]\n",
    "        city_date = city_weather[\"dt\"]\n",
    "\n",
    "        # Append the City information into city_data list\n",
    "        city_data.append({\"City\": city, \n",
    "                          \"Lat\": city_lat, \n",
    "                          \"Lng\": city_lng, \n",
    "                          \"Max Temp\": city_max_temp,\n",
    "                          \"Humidity\": city_humidity,\n",
    "                          \"Cloudiness\": city_clouds,\n",
    "                          \"Wind Speed\": city_wind,\n",
    "                          \"Country\": city_country,\n",
    "                          \"Date\": city_date})\n",
    "\n",
    "    # If an error is experienced, skip the city\n",
    "    except:\n",
    "        print(\"City not found. Skipping...\")\n",
    "        pass\n",
    "              \n",
    "# Indicate that Data Loading is complete \n",
    "print(\"-----------------------------\")\n",
    "print(\"Data Retrieval Complete      \")\n",
    "print(\"-----------------------------\")"
   ]
  },
  {
   "cell_type": "code",
   "execution_count": 4,
   "metadata": {},
   "outputs": [
    {
     "data": {
      "text/plain": [
       "City          543\n",
       "Lat           543\n",
       "Lng           543\n",
       "Max Temp      543\n",
       "Humidity      543\n",
       "Cloudiness    543\n",
       "Wind Speed    543\n",
       "Country       543\n",
       "Date          543\n",
       "dtype: int64"
      ]
     },
     "execution_count": 4,
     "metadata": {},
     "output_type": "execute_result"
    }
   ],
   "source": [
    "# Convert array of JSONs into Pandas DataFrame\n",
    "city_data_df = pd.DataFrame(city_data)\n",
    "\n",
    "# Show Record Count\n",
    "city_data_df.count()"
   ]
  },
  {
   "cell_type": "code",
   "execution_count": 5,
   "metadata": {},
   "outputs": [
    {
     "data": {
      "text/html": [
       "<div>\n",
       "<style scoped>\n",
       "    .dataframe tbody tr th:only-of-type {\n",
       "        vertical-align: middle;\n",
       "    }\n",
       "\n",
       "    .dataframe tbody tr th {\n",
       "        vertical-align: top;\n",
       "    }\n",
       "\n",
       "    .dataframe thead th {\n",
       "        text-align: right;\n",
       "    }\n",
       "</style>\n",
       "<table border=\"1\" class=\"dataframe\">\n",
       "  <thead>\n",
       "    <tr style=\"text-align: right;\">\n",
       "      <th></th>\n",
       "      <th>City</th>\n",
       "      <th>Lat</th>\n",
       "      <th>Lng</th>\n",
       "      <th>Max Temp</th>\n",
       "      <th>Humidity</th>\n",
       "      <th>Cloudiness</th>\n",
       "      <th>Wind Speed</th>\n",
       "      <th>Country</th>\n",
       "      <th>Date</th>\n",
       "    </tr>\n",
       "  </thead>\n",
       "  <tbody>\n",
       "    <tr>\n",
       "      <th>0</th>\n",
       "      <td>hermanus</td>\n",
       "      <td>-34.42</td>\n",
       "      <td>19.23</td>\n",
       "      <td>51.01</td>\n",
       "      <td>92</td>\n",
       "      <td>0</td>\n",
       "      <td>7.78</td>\n",
       "      <td>ZA</td>\n",
       "      <td>1595100525</td>\n",
       "    </tr>\n",
       "    <tr>\n",
       "      <th>1</th>\n",
       "      <td>saskylakh</td>\n",
       "      <td>71.92</td>\n",
       "      <td>114.08</td>\n",
       "      <td>44.01</td>\n",
       "      <td>75</td>\n",
       "      <td>21</td>\n",
       "      <td>12.37</td>\n",
       "      <td>RU</td>\n",
       "      <td>1595100411</td>\n",
       "    </tr>\n",
       "    <tr>\n",
       "      <th>2</th>\n",
       "      <td>thompson</td>\n",
       "      <td>55.74</td>\n",
       "      <td>-97.86</td>\n",
       "      <td>69.80</td>\n",
       "      <td>52</td>\n",
       "      <td>75</td>\n",
       "      <td>8.05</td>\n",
       "      <td>CA</td>\n",
       "      <td>1595100435</td>\n",
       "    </tr>\n",
       "    <tr>\n",
       "      <th>3</th>\n",
       "      <td>rikitea</td>\n",
       "      <td>-23.12</td>\n",
       "      <td>-134.97</td>\n",
       "      <td>72.75</td>\n",
       "      <td>80</td>\n",
       "      <td>6</td>\n",
       "      <td>24.94</td>\n",
       "      <td>PF</td>\n",
       "      <td>1595100529</td>\n",
       "    </tr>\n",
       "    <tr>\n",
       "      <th>4</th>\n",
       "      <td>hobart</td>\n",
       "      <td>-42.88</td>\n",
       "      <td>147.33</td>\n",
       "      <td>50.00</td>\n",
       "      <td>71</td>\n",
       "      <td>0</td>\n",
       "      <td>6.93</td>\n",
       "      <td>AU</td>\n",
       "      <td>1595100355</td>\n",
       "    </tr>\n",
       "  </tbody>\n",
       "</table>\n",
       "</div>"
      ],
      "text/plain": [
       "        City    Lat     Lng  Max Temp  Humidity  Cloudiness  Wind Speed  \\\n",
       "0   hermanus -34.42   19.23     51.01        92           0        7.78   \n",
       "1  saskylakh  71.92  114.08     44.01        75          21       12.37   \n",
       "2   thompson  55.74  -97.86     69.80        52          75        8.05   \n",
       "3    rikitea -23.12 -134.97     72.75        80           6       24.94   \n",
       "4     hobart -42.88  147.33     50.00        71           0        6.93   \n",
       "\n",
       "  Country        Date  \n",
       "0      ZA  1595100525  \n",
       "1      RU  1595100411  \n",
       "2      CA  1595100435  \n",
       "3      PF  1595100529  \n",
       "4      AU  1595100355  "
      ]
     },
     "execution_count": 5,
     "metadata": {},
     "output_type": "execute_result"
    }
   ],
   "source": [
    "# Display the City Data Frame\n",
    "city_data_df.head()"
   ]
  },
  {
   "cell_type": "code",
   "execution_count": 6,
   "metadata": {},
   "outputs": [
    {
     "data": {
      "text/html": [
       "<div>\n",
       "<style scoped>\n",
       "    .dataframe tbody tr th:only-of-type {\n",
       "        vertical-align: middle;\n",
       "    }\n",
       "\n",
       "    .dataframe tbody tr th {\n",
       "        vertical-align: top;\n",
       "    }\n",
       "\n",
       "    .dataframe thead th {\n",
       "        text-align: right;\n",
       "    }\n",
       "</style>\n",
       "<table border=\"1\" class=\"dataframe\">\n",
       "  <thead>\n",
       "    <tr style=\"text-align: right;\">\n",
       "      <th></th>\n",
       "      <th>Lat</th>\n",
       "      <th>Lng</th>\n",
       "      <th>Max Temp</th>\n",
       "      <th>Humidity</th>\n",
       "      <th>Cloudiness</th>\n",
       "      <th>Wind Speed</th>\n",
       "      <th>Date</th>\n",
       "    </tr>\n",
       "  </thead>\n",
       "  <tbody>\n",
       "    <tr>\n",
       "      <th>count</th>\n",
       "      <td>543.000000</td>\n",
       "      <td>543.000000</td>\n",
       "      <td>543.000000</td>\n",
       "      <td>543.000000</td>\n",
       "      <td>543.000000</td>\n",
       "      <td>543.000000</td>\n",
       "      <td>5.430000e+02</td>\n",
       "    </tr>\n",
       "    <tr>\n",
       "      <th>mean</th>\n",
       "      <td>17.702873</td>\n",
       "      <td>15.153278</td>\n",
       "      <td>70.059006</td>\n",
       "      <td>68.554328</td>\n",
       "      <td>44.675875</td>\n",
       "      <td>7.802615</td>\n",
       "      <td>1.595101e+09</td>\n",
       "    </tr>\n",
       "    <tr>\n",
       "      <th>std</th>\n",
       "      <td>33.395829</td>\n",
       "      <td>88.800284</td>\n",
       "      <td>14.814876</td>\n",
       "      <td>21.605578</td>\n",
       "      <td>39.871680</td>\n",
       "      <td>5.206145</td>\n",
       "      <td>2.615154e+02</td>\n",
       "    </tr>\n",
       "    <tr>\n",
       "      <th>min</th>\n",
       "      <td>-54.800000</td>\n",
       "      <td>-175.200000</td>\n",
       "      <td>30.780000</td>\n",
       "      <td>3.000000</td>\n",
       "      <td>0.000000</td>\n",
       "      <td>0.310000</td>\n",
       "      <td>1.595100e+09</td>\n",
       "    </tr>\n",
       "    <tr>\n",
       "      <th>25%</th>\n",
       "      <td>-8.890000</td>\n",
       "      <td>-60.080000</td>\n",
       "      <td>58.280000</td>\n",
       "      <td>55.000000</td>\n",
       "      <td>1.000000</td>\n",
       "      <td>3.970000</td>\n",
       "      <td>1.595101e+09</td>\n",
       "    </tr>\n",
       "    <tr>\n",
       "      <th>50%</th>\n",
       "      <td>18.740000</td>\n",
       "      <td>18.400000</td>\n",
       "      <td>72.680000</td>\n",
       "      <td>74.000000</td>\n",
       "      <td>40.000000</td>\n",
       "      <td>6.930000</td>\n",
       "      <td>1.595101e+09</td>\n",
       "    </tr>\n",
       "    <tr>\n",
       "      <th>75%</th>\n",
       "      <td>45.900000</td>\n",
       "      <td>88.260000</td>\n",
       "      <td>80.735000</td>\n",
       "      <td>85.000000</td>\n",
       "      <td>90.000000</td>\n",
       "      <td>10.290000</td>\n",
       "      <td>1.595101e+09</td>\n",
       "    </tr>\n",
       "    <tr>\n",
       "      <th>max</th>\n",
       "      <td>78.220000</td>\n",
       "      <td>179.320000</td>\n",
       "      <td>102.990000</td>\n",
       "      <td>100.000000</td>\n",
       "      <td>100.000000</td>\n",
       "      <td>32.660000</td>\n",
       "      <td>1.595101e+09</td>\n",
       "    </tr>\n",
       "  </tbody>\n",
       "</table>\n",
       "</div>"
      ],
      "text/plain": [
       "              Lat         Lng    Max Temp    Humidity  Cloudiness  Wind Speed  \\\n",
       "count  543.000000  543.000000  543.000000  543.000000  543.000000  543.000000   \n",
       "mean    17.702873   15.153278   70.059006   68.554328   44.675875    7.802615   \n",
       "std     33.395829   88.800284   14.814876   21.605578   39.871680    5.206145   \n",
       "min    -54.800000 -175.200000   30.780000    3.000000    0.000000    0.310000   \n",
       "25%     -8.890000  -60.080000   58.280000   55.000000    1.000000    3.970000   \n",
       "50%     18.740000   18.400000   72.680000   74.000000   40.000000    6.930000   \n",
       "75%     45.900000   88.260000   80.735000   85.000000   90.000000   10.290000   \n",
       "max     78.220000  179.320000  102.990000  100.000000  100.000000   32.660000   \n",
       "\n",
       "               Date  \n",
       "count  5.430000e+02  \n",
       "mean   1.595101e+09  \n",
       "std    2.615154e+02  \n",
       "min    1.595100e+09  \n",
       "25%    1.595101e+09  \n",
       "50%    1.595101e+09  \n",
       "75%    1.595101e+09  \n",
       "max    1.595101e+09  "
      ]
     },
     "execution_count": 6,
     "metadata": {},
     "output_type": "execute_result"
    }
   ],
   "source": [
    "# Check data stats\n",
    "city_data_df.describe()"
   ]
  },
  {
   "cell_type": "code",
   "execution_count": 7,
   "metadata": {},
   "outputs": [],
   "source": [
    "#  Get the indices of cities that have humidity over 100%.\n",
    "dirty_city_data = city_data_df[(city_data_df[\"Humidity\"] > 100)].index"
   ]
  },
  {
   "cell_type": "code",
   "execution_count": 8,
   "metadata": {},
   "outputs": [
    {
     "data": {
      "text/html": [
       "<div>\n",
       "<style scoped>\n",
       "    .dataframe tbody tr th:only-of-type {\n",
       "        vertical-align: middle;\n",
       "    }\n",
       "\n",
       "    .dataframe tbody tr th {\n",
       "        vertical-align: top;\n",
       "    }\n",
       "\n",
       "    .dataframe thead th {\n",
       "        text-align: right;\n",
       "    }\n",
       "</style>\n",
       "<table border=\"1\" class=\"dataframe\">\n",
       "  <thead>\n",
       "    <tr style=\"text-align: right;\">\n",
       "      <th></th>\n",
       "      <th>City</th>\n",
       "      <th>Lat</th>\n",
       "      <th>Lng</th>\n",
       "      <th>Max Temp</th>\n",
       "      <th>Humidity</th>\n",
       "      <th>Cloudiness</th>\n",
       "      <th>Wind Speed</th>\n",
       "      <th>Country</th>\n",
       "      <th>Date</th>\n",
       "    </tr>\n",
       "  </thead>\n",
       "  <tbody>\n",
       "    <tr>\n",
       "      <th>0</th>\n",
       "      <td>hermanus</td>\n",
       "      <td>-34.42</td>\n",
       "      <td>19.23</td>\n",
       "      <td>51.01</td>\n",
       "      <td>92</td>\n",
       "      <td>0</td>\n",
       "      <td>7.78</td>\n",
       "      <td>ZA</td>\n",
       "      <td>1595100525</td>\n",
       "    </tr>\n",
       "    <tr>\n",
       "      <th>1</th>\n",
       "      <td>saskylakh</td>\n",
       "      <td>71.92</td>\n",
       "      <td>114.08</td>\n",
       "      <td>44.01</td>\n",
       "      <td>75</td>\n",
       "      <td>21</td>\n",
       "      <td>12.37</td>\n",
       "      <td>RU</td>\n",
       "      <td>1595100411</td>\n",
       "    </tr>\n",
       "    <tr>\n",
       "      <th>2</th>\n",
       "      <td>thompson</td>\n",
       "      <td>55.74</td>\n",
       "      <td>-97.86</td>\n",
       "      <td>69.80</td>\n",
       "      <td>52</td>\n",
       "      <td>75</td>\n",
       "      <td>8.05</td>\n",
       "      <td>CA</td>\n",
       "      <td>1595100435</td>\n",
       "    </tr>\n",
       "    <tr>\n",
       "      <th>3</th>\n",
       "      <td>rikitea</td>\n",
       "      <td>-23.12</td>\n",
       "      <td>-134.97</td>\n",
       "      <td>72.75</td>\n",
       "      <td>80</td>\n",
       "      <td>6</td>\n",
       "      <td>24.94</td>\n",
       "      <td>PF</td>\n",
       "      <td>1595100529</td>\n",
       "    </tr>\n",
       "    <tr>\n",
       "      <th>4</th>\n",
       "      <td>hobart</td>\n",
       "      <td>-42.88</td>\n",
       "      <td>147.33</td>\n",
       "      <td>50.00</td>\n",
       "      <td>71</td>\n",
       "      <td>0</td>\n",
       "      <td>6.93</td>\n",
       "      <td>AU</td>\n",
       "      <td>1595100355</td>\n",
       "    </tr>\n",
       "  </tbody>\n",
       "</table>\n",
       "</div>"
      ],
      "text/plain": [
       "        City    Lat     Lng  Max Temp  Humidity  Cloudiness  Wind Speed  \\\n",
       "0   hermanus -34.42   19.23     51.01        92           0        7.78   \n",
       "1  saskylakh  71.92  114.08     44.01        75          21       12.37   \n",
       "2   thompson  55.74  -97.86     69.80        52          75        8.05   \n",
       "3    rikitea -23.12 -134.97     72.75        80           6       24.94   \n",
       "4     hobart -42.88  147.33     50.00        71           0        6.93   \n",
       "\n",
       "  Country        Date  \n",
       "0      ZA  1595100525  \n",
       "1      RU  1595100411  \n",
       "2      CA  1595100435  \n",
       "3      PF  1595100529  \n",
       "4      AU  1595100355  "
      ]
     },
     "execution_count": 8,
     "metadata": {},
     "output_type": "execute_result"
    }
   ],
   "source": [
    "# Make a new DataFrame equal to the city data to drop all humidity outliers by index.\n",
    "# Passing \"inplace=False\" will make a copy of the city_data DataFrame, which we call \"clean_city_data\".\n",
    "clean_city_data = city_data_df.drop(dirty_city_data, inplace=False)\n",
    "clean_city_data.head()"
   ]
  },
  {
   "cell_type": "code",
   "execution_count": 9,
   "metadata": {},
   "outputs": [],
   "source": [
    "# Extract relevant fields from the data frame\n",
    "lats = clean_city_data[\"Lat\"]\n",
    "max_temps = clean_city_data[\"Max Temp\"]\n",
    "humidity = clean_city_data[\"Humidity\"]\n",
    "cloudiness = clean_city_data[\"Cloudiness\"]\n",
    "wind_speed = clean_city_data[\"Wind Speed\"]\n",
    "\n",
    "# Export the City_Data into a csv\n",
    "clean_city_data.to_csv(output_data_file, index_label=\"City_ID\")"
   ]
  },
  {
   "cell_type": "markdown",
   "metadata": {},
   "source": [
    "## Latitude vs Temperature Plot"
   ]
  },
  {
   "cell_type": "code",
   "execution_count": 10,
   "metadata": {},
   "outputs": [
    {
     "data": {
      "image/png": "[encoded data removed]",
      "text/plain": [
       "<Figure size 432x288 with 1 Axes>"
      ]
     },
     "metadata": {
      "needs_background": "light"
     },
     "output_type": "display_data"
    }
   ],
   "source": [
    "# Build scatter plot for latitude vs. temperature\n",
    "plt.scatter(lats, max_temps,\n",
    "            edgecolor=\"black\", linewidths=1, marker=\"o\", \n",
    "            alpha=1.0, label=\"Cities\", color = \"lightgreen\")\n",
    "\n",
    "# Incorporate the other graph properties, add today's date for reference\n",
    "plt.title(\"City Latitude vs. Max Temperature (%s)\" % time.strftime(\"%x\"))\n",
    "plt.ylabel(\"Max Temperature (F)\")\n",
    "plt.xlabel(\"Latitude\")\n",
    "plt.grid(True)\n",
    "\n",
    "# Save the figure\n",
    "plt.savefig(\"output_data/Fig1.png\")\n",
    "\n",
    "# Show plot\n",
    "plt.show()"
   ]
  },
  {
   "cell_type": "markdown",
   "metadata": {},
   "source": [
    "### The weather becomes warmer the closer you get to the equator (0 degrees latitude). There are some spikes in temperature between 20 degrees and 40 degrees latitude."
   ]
  },
  {
   "cell_type": "markdown",
   "metadata": {},
   "source": [
    "## Latitude vs Humidity Plot"
   ]
  },
  {
   "cell_type": "code",
   "execution_count": 11,
   "metadata": {},
   "outputs": [
    {
     "data": {
      "image/png": "[encoded data removed]",
      "text/plain": [
       "<Figure size 432x288 with 1 Axes>"
      ]
     },
     "metadata": {
      "needs_background": "light"
     },
     "output_type": "display_data"
    }
   ],
   "source": [
    "# Build the scatter plots for latitude vs. humidity\n",
    "plt.scatter(lats, humidity,\n",
    "            edgecolor=\"black\", linewidths=1, marker=\"o\", \n",
    "            alpha=1.0, label=\"Cities\", color = \"lightgreen\")\n",
    "\n",
    "# Incorporate the other graph properties, add today's date for reference\n",
    "plt.title(\"City Latitude vs. Humidity (%s)\" % time.strftime(\"%x\"))\n",
    "plt.ylabel(\"Humidity (%)\")\n",
    "plt.xlabel(\"Latitude\")\n",
    "plt.grid(True)\n",
    "\n",
    "# Save the figure\n",
    "plt.savefig(\"output_data/Fig2.png\")\n",
    "\n",
    "# Show plot\n",
    "plt.show()"
   ]
  },
  {
   "cell_type": "markdown",
   "metadata": {},
   "source": [
    "### Latitude and humiditiy have no direct relationship."
   ]
  },
  {
   "cell_type": "markdown",
   "metadata": {},
   "source": [
    "## Latitude vs Cloudiness Plot"
   ]
  },
  {
   "cell_type": "code",
   "execution_count": 12,
   "metadata": {},
   "outputs": [
    {
     "data": {
      "image/png": "[encoded data removed]",
      "text/plain": [
       "<Figure size 432x288 with 1 Axes>"
      ]
     },
     "metadata": {
      "needs_background": "light"
     },
     "output_type": "display_data"
    }
   ],
   "source": [
    "# Build the scatter plots for latitude vs. cloudiness\n",
    "plt.scatter(lats, cloudiness,\n",
    "            edgecolor=\"black\", linewidths=1, marker=\"o\", \n",
    "            alpha=1.0, label=\"Cities\", color = \"lightgreen\")\n",
    "\n",
    "# Incorporate the other graph properties, add today's date for reference\n",
    "plt.title(\"City Latitude vs. Cloudiness (%s)\" % time.strftime(\"%x\"))\n",
    "plt.ylabel(\"Cloudiness (%)\")\n",
    "plt.xlabel(\"Latitude\")\n",
    "plt.grid(True)\n",
    "\n",
    "# Save the figure\n",
    "plt.savefig(\"output_data/Fig3.png\")\n",
    "\n",
    "# Show plot\n",
    "plt.show()"
   ]
  },
  {
   "cell_type": "markdown",
   "metadata": {},
   "source": [
    "### Latitude and cloudiness have no direct relationship."
   ]
  },
  {
   "cell_type": "markdown",
   "metadata": {},
   "source": [
    "## Latitude vs Wind Speed Plot"
   ]
  },
  {
   "cell_type": "code",
   "execution_count": 13,
   "metadata": {},
   "outputs": [
    {
     "data": {
      "image/png": "[encoded data removed]",
      "text/plain": [
       "<Figure size 432x288 with 1 Axes>"
      ]
     },
     "metadata": {
      "needs_background": "light"
     },
     "output_type": "display_data"
    }
   ],
   "source": [
    "# Build the scatter plots for latitude vs. wind speed\n",
    "plt.scatter(lats, wind_speed,\n",
    "            edgecolor=\"black\", linewidths=1, marker=\"o\", \n",
    "            alpha=1.0, label=\"Cities\", color = \"lightgreen\")\n",
    "\n",
    "# Incorporate the other graph properties, add today's date for reference\n",
    "plt.title(\"City Latitude vs. Wind Speed (%s)\" % time.strftime(\"%x\"))\n",
    "plt.ylabel(\"Wind Speed (mph)\")\n",
    "plt.xlabel(\"Latitude\")\n",
    "plt.grid(True)\n",
    "\n",
    "# Save the figure\n",
    "plt.savefig(\"output_data/Fig4.png\")\n",
    "\n",
    "# Show plot\n",
    "plt.show()"
   ]
  },
  {
   "cell_type": "markdown",
   "metadata": {},
   "source": [
    "### Latitude and wind speed have no direct relationship."
   ]
  },
  {
   "cell_type": "markdown",
   "metadata": {},
   "source": [
    "## Linear Regression"
   ]
  },
  {
   "cell_type": "code",
   "execution_count": 14,
   "metadata": {},
   "outputs": [],
   "source": [
    "# y = mx + b  (b = intercept, m = slope, x,y remain the same)\n",
    "# r squared values range from 0 to 1 or 0% to 100%; the higher the r squared, the better the models fits the data\n",
    "\n",
    "# Create a function to create Linear Regression plots\n",
    "def plot_linear_regression(x_values, y_values, title, text_coordinates):\n",
    "    \n",
    "    # Run regresson on southern hemisphere\n",
    "    (slope, intercept, rvalue, pvalue, stderr) = linregress(x_values, y_values) \n",
    "    regress_values = x_values * slope + intercept\n",
    "    line_eq = \"y = \" + str(round(slope,2)) + \"x + \" + str(round(intercept,2))\n",
    "\n",
    "    # Plot\n",
    "    plt.scatter(x_values,y_values)\n",
    "    plt.plot(x_values,regress_values,\"r-\")\n",
    "    plt.annotate(line_eq,text_coordinates,fontsize=15,color=\"red\")\n",
    "    plt.xlabel('Latitude')\n",
    "    plt.ylabel(title)\n",
    "    print(f\"The r-squared is: {rvalue**2}\")\n",
    "    plt.show()"
   ]
  },
  {
   "cell_type": "code",
   "execution_count": 15,
   "metadata": {},
   "outputs": [],
   "source": [
    "# Create Northern and Southern Hemisphere DataFrames\n",
    "northern_hemi_df = city_data_df.loc[(city_data_df[\"Lat\"] >= 0)]\n",
    "southern_hemi_df = city_data_df.loc[(city_data_df[\"Lat\"] < 0)]"
   ]
  },
  {
   "cell_type": "markdown",
   "metadata": {},
   "source": [
    "## Max Temperature vs Latitude Linear Regression"
   ]
  },
  {
   "cell_type": "code",
   "execution_count": 16,
   "metadata": {},
   "outputs": [
    {
     "name": "stdout",
     "output_type": "stream",
     "text": [
      "The r-squared is: 0.4726494012226664\n"
     ]
    },
    {
     "data": {
      "image/png": "[encoded data removed]",
      "text/plain": [
       "<Figure size 432x288 with 1 Axes>"
      ]
     },
     "metadata": {
      "needs_background": "light"
     },
     "output_type": "display_data"
    }
   ],
   "source": [
    "# Linear regression on Northern Hemisphere\n",
    "x_values = northern_hemi_df[\"Lat\"]\n",
    "y_values = northern_hemi_df[\"Max Temp\"]\n",
    "plot_linear_regression(x_values, y_values, 'Max Temp',(6,30))"
   ]
  },
  {
   "cell_type": "markdown",
   "metadata": {},
   "source": [
    "### In the Northern Hemisphere there is a negative correlation between temperature and latitude. The further away from the equator (0 degrees latitude), the lower the temperature."
   ]
  },
  {
   "cell_type": "code",
   "execution_count": 17,
   "metadata": {},
   "outputs": [
    {
     "name": "stdout",
     "output_type": "stream",
     "text": [
      "The r-squared is: 0.5413008564909481\n"
     ]
    },
    {
     "data": {
      "image/png": "[encoded data removed]",
      "text/plain": [
       "<Figure size 432x288 with 1 Axes>"
      ]
     },
     "metadata": {
      "needs_background": "light"
     },
     "output_type": "display_data"
    }
   ],
   "source": [
    "# Linear regression on Southern Hemisphere\n",
    "x_values = southern_hemi_df[\"Lat\"]\n",
    "y_values = southern_hemi_df[\"Max Temp\"]\n",
    "plot_linear_regression(x_values, y_values, 'Max Temp', (-55, 90))"
   ]
  },
  {
   "cell_type": "markdown",
   "metadata": {},
   "source": [
    "### In the Southern Hemisphere there is a positive correlation between latitude and max temperature. The closer you get to the equator (0 degrees latitude), the higher the temperature."
   ]
  },
  {
   "cell_type": "markdown",
   "metadata": {},
   "source": [
    "## Humidity vs Latitude Linear Regression"
   ]
  },
  {
   "cell_type": "code",
   "execution_count": 18,
   "metadata": {},
   "outputs": [
    {
     "name": "stdout",
     "output_type": "stream",
     "text": [
      "The r-squared is: 0.00042017814593273145\n"
     ]
    },
    {
     "data": {
      "image/png": "[encoded data removed]",
      "text/plain": [
       "<Figure size 432x288 with 1 Axes>"
      ]
     },
     "metadata": {
      "needs_background": "light"
     },
     "output_type": "display_data"
    }
   ],
   "source": [
    "# Northern Hemisphere\n",
    "x_values = northern_hemi_df[\"Lat\"]\n",
    "y_values = northern_hemi_df[\"Humidity\"]\n",
    "plot_linear_regression(x_values, y_values, 'Humidity',(40,10))"
   ]
  },
  {
   "cell_type": "markdown",
   "metadata": {},
   "source": [
    "### In the Northern Hemisphere there is no correlation between humidity and latitude."
   ]
  },
  {
   "cell_type": "code",
   "execution_count": 19,
   "metadata": {},
   "outputs": [
    {
     "name": "stdout",
     "output_type": "stream",
     "text": [
      "The r-squared is: 0.020029498172133262\n"
     ]
    },
    {
     "data": {
      "image/png": "[encoded data removed]",
      "text/plain": [
       "<Figure size 432x288 with 1 Axes>"
      ]
     },
     "metadata": {
      "needs_background": "light"
     },
     "output_type": "display_data"
    }
   ],
   "source": [
    "# Southern Hemisphere\n",
    "x_values = southern_hemi_df[\"Lat\"]\n",
    "y_values = southern_hemi_df[\"Humidity\"]\n",
    "plot_linear_regression(x_values, y_values, 'Humidity', (-50, 20))"
   ]
  },
  {
   "cell_type": "markdown",
   "metadata": {},
   "source": [
    "### In the Southern Hemisphere there is no correlation between humidity and latitude."
   ]
  },
  {
   "cell_type": "markdown",
   "metadata": {},
   "source": [
    "## Cloudiness (%) vs Latitude Linear Regression"
   ]
  },
  {
   "cell_type": "code",
   "execution_count": 20,
   "metadata": {},
   "outputs": [
    {
     "name": "stdout",
     "output_type": "stream",
     "text": [
      "The r-squared is: 0.0052404021098513\n"
     ]
    },
    {
     "data": {
      "image/png": "[encoded data removed]",
      "text/plain": [
       "<Figure size 432x288 with 1 Axes>"
      ]
     },
     "metadata": {
      "needs_background": "light"
     },
     "output_type": "display_data"
    }
   ],
   "source": [
    "# Northern Hemisphere\n",
    "x_values = northern_hemi_df[\"Lat\"]\n",
    "y_values = northern_hemi_df[\"Cloudiness\"]\n",
    "plot_linear_regression(x_values, y_values, 'Cloudiness', (40,10))"
   ]
  },
  {
   "cell_type": "markdown",
   "metadata": {},
   "source": [
    "### In the Northern Hemisphere there is no correlation between cloudiness and latitude."
   ]
  },
  {
   "cell_type": "code",
   "execution_count": 21,
   "metadata": {},
   "outputs": [
    {
     "name": "stdout",
     "output_type": "stream",
     "text": [
      "The r-squared is: 0.01324353205132219\n"
     ]
    },
    {
     "data": {
      "image/png": "[encoded data removed]",
      "text/plain": [
       "<Figure size 432x288 with 1 Axes>"
      ]
     },
     "metadata": {
      "needs_background": "light"
     },
     "output_type": "display_data"
    }
   ],
   "source": [
    "# Southern Hemisphere\n",
    "x_values = southern_hemi_df[\"Lat\"]\n",
    "y_values = southern_hemi_df[\"Cloudiness\"]\n",
    "plot_linear_regression(x_values, y_values, 'Cloudiness', (-30,30))"
   ]
  },
  {
   "cell_type": "markdown",
   "metadata": {},
   "source": [
    "### In the Southern Hemisphere there is no correlation between cloudiness and latitude."
   ]
  },
  {
   "cell_type": "markdown",
   "metadata": {},
   "source": [
    "## Wind Speed (mph) vs Latitude Linear Regression"
   ]
  },
  {
   "cell_type": "code",
   "execution_count": 22,
   "metadata": {},
   "outputs": [
    {
     "name": "stdout",
     "output_type": "stream",
     "text": [
      "The r-squared is: 8.465531493853497e-07\n"
     ]
    },
    {
     "data": {
      "image/png": "[encoded data removed]",
      "text/plain": [
       "<Figure size 432x288 with 1 Axes>"
      ]
     },
     "metadata": {
      "needs_background": "light"
     },
     "output_type": "display_data"
    }
   ],
   "source": [
    "# Northern Hemisphere\n",
    "x_values = northern_hemi_df[\"Lat\"]\n",
    "y_values = northern_hemi_df[\"Wind Speed\"]\n",
    "plot_linear_regression(x_values, y_values, 'Wind Speed', (40,25))"
   ]
  },
  {
   "cell_type": "markdown",
   "metadata": {},
   "source": [
    "### In the Northern Hemisphere there is no correlation between windspeed and latitude."
   ]
  },
  {
   "cell_type": "code",
   "execution_count": 23,
   "metadata": {},
   "outputs": [
    {
     "name": "stdout",
     "output_type": "stream",
     "text": [
      "The r-squared is: 0.003569918545661749\n"
     ]
    },
    {
     "data": {
      "image/png": "[encoded data removed]",
      "text/plain": [
       "<Figure size 432x288 with 1 Axes>"
      ]
     },
     "metadata": {
      "needs_background": "light"
     },
     "output_type": "display_data"
    }
   ],
   "source": [
    "# Southern Hemisphere\n",
    "x_values = southern_hemi_df[\"Lat\"]\n",
    "y_values = southern_hemi_df[\"Wind Speed\"]\n",
    "plot_linear_regression(x_values, y_values, 'Wind Speed', (-50, 20))"
   ]
  },
  {
   "cell_type": "markdown",
   "metadata": {},
   "source": [
    "### In the Souththern Hemisphere there is no correlation between wind speed and latitude."
   ]
  }
 ],
 "metadata": {
  "kernelspec": {
   "display_name": "Python 3",
   "language": "python",
   "name": "python3"
  },
  "language_info": {
   "codemirror_mode": {
    "name": "ipython",
    "version": 3
   },
   "file_extension": ".py",
   "mimetype": "text/x-python",
   "name": "python",
   "nbconvert_exporter": "python",
   "pygments_lexer": "ipython3",
   "version": "3.7.6"
  }
 },
 "nbformat": 4,
 "nbformat_minor": 4
}
