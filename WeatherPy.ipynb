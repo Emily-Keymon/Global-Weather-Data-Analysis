{
 "cells": [
  {
   "cell_type": "markdown",
   "metadata": {},
   "source": [
    "## WeatherPy"
   ]
  },
  {
   "cell_type": "markdown",
   "metadata": {},
   "source": [
    "### Analysis\n",
    "\n",
    "As suspected, the weather becomes warmer the closer you get to the equator (0 degrees latitude). There are some spikes in temperature between 20 degrees and 40 degrees latitude.\n",
    "\n",
    "Neither humiditiy, cloudiness nor wind speed have direct relationships with the latitude. This applies to both the Northern Hemisphere (greater than or equal to 0 degrees latitude) and Southern Hemisphere (less than 0 degrees latitude).\n",
    "\n",
    "There is a negative correlation between temperature and latitude. The further away from the equator (0 degrees latitude), the lower the temperature.\n",
    "\n",
    "There is a positive correlation between latitude and max temperature. The closer you get to the equator (0 degrees latitude), the higher the temperature."
   ]
  },
  {
   "cell_type": "code",
   "execution_count": 2,
   "metadata": {},
   "outputs": [],
   "source": [
    "# Dependencies and Setup\n",
    "import matplotlib.pyplot as plt\n",
    "import pandas as pd\n",
    "import numpy as np\n",
    "import requests\n",
    "import time\n",
    "from scipy.stats import linregress\n",
    "\n",
    "# Import API key\n",
    "from api_keys import weather_api_key\n",
    "\n",
    "# Incorporated citipy to determine city based on latitude and longitude\n",
    "from citipy import citipy\n",
    "\n",
    "# Output File (CSV)\n",
    "output_data_file = \"output_data/cities.csv\"\n",
    "\n",
    "# Range of latitudes and longitudes\n",
    "lat_range = (-90, 90)\n",
    "lng_range = (-180, 180)"
   ]
  },
  {
   "cell_type": "markdown",
   "metadata": {},
   "source": [
    "## Generate Cities List"
   ]
  },
  {
   "cell_type": "code",
   "execution_count": 3,
   "metadata": {},
   "outputs": [
    {
     "data": {
      "text/plain": [
       "601"
      ]
     },
     "execution_count": 3,
     "metadata": {},
     "output_type": "execute_result"
    }
   ],
   "source": [
    "# List for holding lat_lngs and cities\n",
    "lat_lngs = []\n",
    "cities = []\n",
    "\n",
    "# Create a set of random lat and lng combinations\n",
    "lats = np.random.uniform(lat_range[0], lat_range[1], size = 1500)\n",
    "lngs = np.random.uniform(lng_range[0], lng_range[1], size = 1500)\n",
    "lat_lngs = zip(lats, lngs)\n",
    "\n",
    "# Identify nearest city for each lat, lng combination\n",
    "for lat_lng in lat_lngs:\n",
    "    city = citipy.nearest_city(lat_lng[0], lat_lng[1]).city_name\n",
    "    \n",
    "    # If the city is unique, then add it to a our cities list\n",
    "    if city not in cities:\n",
    "        cities.append(city)\n",
    "\n",
    "\n",
    "# Print the city count to confirm sufficient count\n",
    "len(cities)"
   ]
  },
  {
   "cell_type": "markdown",
   "metadata": {},
   "source": [
    "## Perform API Calls"
   ]
  },
  {
   "cell_type": "code",
   "execution_count": 4,
   "metadata": {},
   "outputs": [
    {
     "name": "stdout",
     "output_type": "stream",
     "text": [
      "Beginning Data Retrieval     \n",
      "-----------------------------\n",
      "Processing Record 1 of Set 1 | illoqqortoormiut\n",
      "City not found. Skipping...\n",
      "Processing Record 2 of Set 1 | rikitea\n",
      "Processing Record 3 of Set 1 | tabiauea\n",
      "City not found. Skipping...\n",
      "Processing Record 4 of Set 1 | oktyabrskoye\n",
      "Processing Record 5 of Set 1 | bluff\n",
      "Processing Record 6 of Set 1 | mataura\n",
      "Processing Record 7 of Set 1 | kapaa\n",
      "Processing Record 8 of Set 1 | talcahuano\n",
      "Processing Record 9 of Set 1 | esperance\n",
      "Processing Record 10 of Set 1 | tonantins\n",
      "Processing Record 11 of Set 1 | tasiilaq\n",
      "Processing Record 12 of Set 1 | faanui\n",
      "Processing Record 13 of Set 1 | karamea\n",
      "City not found. Skipping...\n",
      "Processing Record 14 of Set 1 | avarua\n",
      "Processing Record 15 of Set 1 | mangai\n",
      "Processing Record 16 of Set 1 | cape town\n",
      "Processing Record 17 of Set 1 | barentsburg\n",
      "City not found. Skipping...\n",
      "Processing Record 18 of Set 1 | yar-sale\n",
      "Processing Record 19 of Set 1 | alice springs\n",
      "Processing Record 20 of Set 1 | busselton\n",
      "Processing Record 21 of Set 1 | barrow\n",
      "Processing Record 22 of Set 1 | upernavik\n",
      "Processing Record 23 of Set 1 | taolanaro\n",
      "City not found. Skipping...\n",
      "Processing Record 24 of Set 1 | yinchuan\n",
      "Processing Record 25 of Set 1 | vaini\n",
      "Processing Record 26 of Set 1 | xuchang\n",
      "Processing Record 27 of Set 1 | dikson\n",
      "Processing Record 28 of Set 1 | hithadhoo\n",
      "Processing Record 29 of Set 1 | geraldton\n",
      "Processing Record 30 of Set 1 | saint george\n",
      "Processing Record 31 of Set 1 | provideniya\n",
      "Processing Record 32 of Set 1 | gurlan\n",
      "Processing Record 33 of Set 1 | aksay\n",
      "Processing Record 34 of Set 1 | east london\n",
      "Processing Record 35 of Set 1 | vega de alatorre\n",
      "Processing Record 36 of Set 1 | albany\n",
      "Processing Record 37 of Set 1 | bredasdorp\n",
      "Processing Record 38 of Set 1 | qaqortoq\n",
      "Processing Record 39 of Set 1 | keflavik\n",
      "Processing Record 40 of Set 1 | berezovyy\n",
      "Processing Record 41 of Set 1 | butaritari\n",
      "Processing Record 42 of Set 1 | mandalgovi\n",
      "Processing Record 43 of Set 1 | sotnikovo\n",
      "Processing Record 44 of Set 1 | carnarvon\n",
      "Processing Record 45 of Set 1 | port elizabeth\n",
      "Processing Record 46 of Set 1 | puerto ayora\n",
      "Processing Record 47 of Set 1 | port alfred\n",
      "Processing Record 48 of Set 1 | le port\n",
      "Processing Record 49 of Set 1 | ushuaia\n",
      "Processing Record 50 of Set 1 | saldanha\n",
      "Processing Record 0 of Set 2 | codrington\n",
      "Processing Record 1 of Set 2 | qaanaaq\n",
      "Processing Record 2 of Set 2 | bairiki\n",
      "Processing Record 3 of Set 2 | port lincoln\n",
      "Processing Record 4 of Set 2 | portland\n",
      "Processing Record 5 of Set 2 | kyzyl-suu\n",
      "Processing Record 6 of Set 2 | naushki\n",
      "Processing Record 7 of Set 2 | virden\n",
      "Processing Record 8 of Set 2 | yellowknife\n",
      "Processing Record 9 of Set 2 | kaitangata\n",
      "Processing Record 10 of Set 2 | hurghada\n",
      "Processing Record 11 of Set 2 | ballina\n",
      "Processing Record 12 of Set 2 | la primavera\n",
      "Processing Record 13 of Set 2 | corning\n",
      "Processing Record 14 of Set 2 | mount gambier\n",
      "Processing Record 15 of Set 2 | bubaque\n",
      "Processing Record 16 of Set 2 | yumen\n",
      "Processing Record 17 of Set 2 | riyadh\n",
      "Processing Record 18 of Set 2 | sorvag\n",
      "City not found. Skipping...\n",
      "Processing Record 19 of Set 2 | saint-augustin\n",
      "Processing Record 20 of Set 2 | nikolskoye\n",
      "Processing Record 21 of Set 2 | punta arenas\n",
      "Processing Record 22 of Set 2 | salalah\n",
      "Processing Record 23 of Set 2 | hermanus\n",
      "Processing Record 24 of Set 2 | puerto princesa\n",
      "Processing Record 25 of Set 2 | katsuura\n",
      "Processing Record 26 of Set 2 | klaksvik\n",
      "Processing Record 27 of Set 2 | anadyr\n",
      "Processing Record 28 of Set 2 | kieta\n",
      "Processing Record 29 of Set 2 | saurikh\n",
      "Processing Record 30 of Set 2 | aklavik\n",
      "Processing Record 31 of Set 2 | necochea\n",
      "Processing Record 32 of Set 2 | sentyabrskiy\n",
      "City not found. Skipping...\n",
      "Processing Record 33 of Set 2 | fukuyama\n",
      "Processing Record 34 of Set 2 | jamestown\n",
      "Processing Record 35 of Set 2 | ulundi\n",
      "Processing Record 36 of Set 2 | mumford\n",
      "Processing Record 37 of Set 2 | mogadishu\n",
      "Processing Record 38 of Set 2 | lorengau\n",
      "Processing Record 39 of Set 2 | hobart\n",
      "Processing Record 40 of Set 2 | cherskiy\n",
      "Processing Record 41 of Set 2 | belushya guba\n",
      "City not found. Skipping...\n",
      "Processing Record 42 of Set 2 | yangambi\n",
      "Processing Record 43 of Set 2 | samusu\n",
      "City not found. Skipping...\n",
      "Processing Record 44 of Set 2 | ngunguru\n",
      "Processing Record 45 of Set 2 | ahuimanu\n",
      "Processing Record 46 of Set 2 | castro\n",
      "Processing Record 47 of Set 2 | vanimo\n",
      "Processing Record 48 of Set 2 | bandarbeyla\n",
      "Processing Record 49 of Set 2 | alofi\n",
      "Processing Record 0 of Set 3 | bambous virieux\n",
      "Processing Record 1 of Set 3 | isilkul\n",
      "Processing Record 2 of Set 3 | celestun\n",
      "Processing Record 3 of Set 3 | krasnoselkup\n",
      "Processing Record 4 of Set 3 | cidreira\n",
      "Processing Record 5 of Set 3 | ribeira grande\n",
      "Processing Record 6 of Set 3 | souillac\n",
      "Processing Record 7 of Set 3 | kaeo\n",
      "Processing Record 8 of Set 3 | port hardy\n",
      "Processing Record 9 of Set 3 | asau\n",
      "Processing Record 10 of Set 3 | torbay\n",
      "Processing Record 11 of Set 3 | saint-prosper\n",
      "Processing Record 12 of Set 3 | namestovo\n",
      "Processing Record 13 of Set 3 | quelimane\n",
      "Processing Record 14 of Set 3 | xichang\n",
      "Processing Record 15 of Set 3 | denpasar\n",
      "Processing Record 16 of Set 3 | hilo\n",
      "Processing Record 17 of Set 3 | la ronge\n",
      "Processing Record 18 of Set 3 | bengkulu\n",
      "Processing Record 19 of Set 3 | chuy\n",
      "Processing Record 20 of Set 3 | mar del plata\n",
      "Processing Record 21 of Set 3 | kruisfontein\n",
      "Processing Record 22 of Set 3 | myitkyina\n",
      "Processing Record 23 of Set 3 | warqla\n",
      "City not found. Skipping...\n",
      "Processing Record 24 of Set 3 | muros\n",
      "Processing Record 25 of Set 3 | kodiak\n",
      "Processing Record 26 of Set 3 | meyungs\n",
      "City not found. Skipping...\n",
      "Processing Record 27 of Set 3 | berlevag\n",
      "Processing Record 28 of Set 3 | nioro\n",
      "Processing Record 29 of Set 3 | bokspits\n",
      "City not found. Skipping...\n",
      "Processing Record 30 of Set 3 | longyearbyen\n",
      "Processing Record 31 of Set 3 | ayer itam\n",
      "City not found. Skipping...\n",
      "Processing Record 32 of Set 3 | megion\n",
      "Processing Record 33 of Set 3 | tiksi\n",
      "Processing Record 34 of Set 3 | port hedland\n",
      "Processing Record 35 of Set 3 | dunedin\n",
      "Processing Record 36 of Set 3 | vostok\n",
      "Processing Record 37 of Set 3 | pangnirtung\n",
      "Processing Record 38 of Set 3 | maniitsoq\n",
      "Processing Record 39 of Set 3 | sao joao de pirabas\n",
      "Processing Record 40 of Set 3 | edd\n",
      "Processing Record 41 of Set 3 | chunskiy\n",
      "Processing Record 42 of Set 3 | mount isa\n",
      "Processing Record 43 of Set 3 | san pedro\n",
      "Processing Record 44 of Set 3 | inegol\n",
      "Processing Record 45 of Set 3 | mugur-aksy\n",
      "Processing Record 46 of Set 3 | san patricio\n",
      "Processing Record 47 of Set 3 | tourlaville\n",
      "Processing Record 48 of Set 3 | el faiyum\n",
      "City not found. Skipping...\n",
      "Processing Record 49 of Set 3 | hasaki\n",
      "Processing Record 0 of Set 4 | salo\n",
      "Processing Record 1 of Set 4 | pangkalanbuun\n",
      "Processing Record 2 of Set 4 | qasigiannguit\n",
      "Processing Record 3 of Set 4 | tuatapere\n",
      "Processing Record 4 of Set 4 | kurri kurri\n",
      "Processing Record 5 of Set 4 | laguna\n",
      "Processing Record 6 of Set 4 | oussouye\n",
      "Processing Record 7 of Set 4 | marcona\n",
      "City not found. Skipping...\n",
      "Processing Record 8 of Set 4 | pacific grove\n",
      "Processing Record 9 of Set 4 | nara\n",
      "Processing Record 10 of Set 4 | ust-kamchatsk\n",
      "City not found. Skipping...\n",
      "Processing Record 11 of Set 4 | mahebourg\n",
      "Processing Record 12 of Set 4 | lagoa\n",
      "Processing Record 13 of Set 4 | thompson\n",
      "Processing Record 14 of Set 4 | lahuachaca\n",
      "Processing Record 15 of Set 4 | abrau-dyurso\n",
      "Processing Record 16 of Set 4 | deputatskiy\n",
      "Processing Record 17 of Set 4 | abha\n",
      "Processing Record 18 of Set 4 | wadi musa\n",
      "Processing Record 19 of Set 4 | narsaq\n",
      "Processing Record 20 of Set 4 | saint-philippe\n",
      "Processing Record 21 of Set 4 | la gomera\n",
      "Processing Record 22 of Set 4 | mancio lima\n",
      "Processing Record 23 of Set 4 | broome\n",
      "Processing Record 24 of Set 4 | tocopilla\n",
      "Processing Record 25 of Set 4 | atuona\n",
      "Processing Record 26 of Set 4 | bethel\n",
      "Processing Record 27 of Set 4 | grand gaube\n",
      "Processing Record 28 of Set 4 | pimentel\n",
      "Processing Record 29 of Set 4 | coquimbo\n",
      "Processing Record 30 of Set 4 | ewa beach\n",
      "Processing Record 31 of Set 4 | hobyo\n",
      "Processing Record 32 of Set 4 | praia\n",
      "Processing Record 33 of Set 4 | bagdarin\n",
      "Processing Record 34 of Set 4 | prince george\n",
      "Processing Record 35 of Set 4 | ozu\n",
      "Processing Record 36 of Set 4 | biloela\n"
     ]
    },
    {
     "name": "stdout",
     "output_type": "stream",
     "text": [
      "Processing Record 37 of Set 4 | sao miguel do araguaia\n",
      "Processing Record 38 of Set 4 | camapua\n",
      "Processing Record 39 of Set 4 | saskylakh\n",
      "Processing Record 40 of Set 4 | kortkeros\n",
      "Processing Record 41 of Set 4 | nemuro\n",
      "Processing Record 42 of Set 4 | acapulco\n",
      "Processing Record 43 of Set 4 | ust-nera\n",
      "Processing Record 44 of Set 4 | pecos\n",
      "Processing Record 45 of Set 4 | umzimvubu\n",
      "City not found. Skipping...\n",
      "Processing Record 46 of Set 4 | vikulovo\n",
      "Processing Record 47 of Set 4 | tuktoyaktuk\n",
      "Processing Record 48 of Set 4 | skalistyy\n",
      "City not found. Skipping...\n",
      "Processing Record 49 of Set 4 | new norfolk\n",
      "Processing Record 0 of Set 5 | olafsvik\n",
      "Processing Record 1 of Set 5 | touba\n",
      "Processing Record 2 of Set 5 | pisco\n",
      "Processing Record 3 of Set 5 | luderitz\n",
      "Processing Record 4 of Set 5 | linxi\n",
      "Processing Record 5 of Set 5 | fort-shevchenko\n",
      "Processing Record 6 of Set 5 | novikovo\n",
      "Processing Record 7 of Set 5 | pozo colorado\n",
      "Processing Record 8 of Set 5 | saint anthony\n",
      "Processing Record 9 of Set 5 | xiangdong\n",
      "City not found. Skipping...\n",
      "Processing Record 10 of Set 5 | cockburn town\n",
      "Processing Record 11 of Set 5 | kerteh\n",
      "City not found. Skipping...\n",
      "Processing Record 12 of Set 5 | ancud\n",
      "Processing Record 13 of Set 5 | broken hill\n",
      "Processing Record 14 of Set 5 | severo-kurilsk\n",
      "Processing Record 15 of Set 5 | lavrentiya\n",
      "Processing Record 16 of Set 5 | luena\n",
      "Processing Record 17 of Set 5 | kilindoni\n",
      "Processing Record 18 of Set 5 | embu\n",
      "Processing Record 19 of Set 5 | hofn\n",
      "Processing Record 20 of Set 5 | lukovetskiy\n",
      "Processing Record 21 of Set 5 | taltal\n",
      "Processing Record 22 of Set 5 | cordoba\n",
      "Processing Record 23 of Set 5 | wanxian\n",
      "Processing Record 24 of Set 5 | mayo\n",
      "Processing Record 25 of Set 5 | aitape\n",
      "Processing Record 26 of Set 5 | frontera\n",
      "Processing Record 27 of Set 5 | taoudenni\n",
      "Processing Record 28 of Set 5 | north bend\n",
      "Processing Record 29 of Set 5 | arica\n",
      "Processing Record 30 of Set 5 | pascagoula\n",
      "Processing Record 31 of Set 5 | amderma\n",
      "City not found. Skipping...\n",
      "Processing Record 32 of Set 5 | cabo san lucas\n",
      "Processing Record 33 of Set 5 | khatanga\n",
      "Processing Record 34 of Set 5 | buala\n",
      "Processing Record 35 of Set 5 | mercedes\n",
      "Processing Record 36 of Set 5 | sirur\n",
      "Processing Record 37 of Set 5 | urumqi\n",
      "Processing Record 38 of Set 5 | sakaiminato\n",
      "Processing Record 39 of Set 5 | nyurba\n",
      "Processing Record 40 of Set 5 | nanded\n",
      "City not found. Skipping...\n",
      "Processing Record 41 of Set 5 | monte plata\n",
      "Processing Record 42 of Set 5 | zhigansk\n",
      "Processing Record 43 of Set 5 | yaan\n",
      "Processing Record 44 of Set 5 | wagar\n",
      "Processing Record 45 of Set 5 | rocha\n",
      "Processing Record 46 of Set 5 | ahmadpur\n",
      "Processing Record 47 of Set 5 | kamenskoye\n",
      "City not found. Skipping...\n",
      "Processing Record 48 of Set 5 | jiwani\n",
      "Processing Record 49 of Set 5 | ukiah\n",
      "Processing Record 0 of Set 6 | talnakh\n",
      "Processing Record 1 of Set 6 | belmonte\n",
      "Processing Record 2 of Set 6 | gladstone\n",
      "Processing Record 3 of Set 6 | aasiaat\n",
      "Processing Record 4 of Set 6 | half moon bay\n",
      "Processing Record 5 of Set 6 | namatanai\n",
      "Processing Record 6 of Set 6 | chagda\n",
      "City not found. Skipping...\n",
      "Processing Record 7 of Set 6 | georgetown\n",
      "Processing Record 8 of Set 6 | natal\n",
      "Processing Record 9 of Set 6 | kungalv\n",
      "Processing Record 10 of Set 6 | victoria\n",
      "Processing Record 11 of Set 6 | vila\n",
      "Processing Record 12 of Set 6 | san cristobal\n",
      "Processing Record 13 of Set 6 | pevek\n",
      "Processing Record 14 of Set 6 | tucuma\n",
      "Processing Record 15 of Set 6 | la palma\n",
      "Processing Record 16 of Set 6 | hammerfest\n",
      "Processing Record 17 of Set 6 | zarichne\n",
      "Processing Record 18 of Set 6 | bambanglipuro\n",
      "Processing Record 19 of Set 6 | whitehorse\n",
      "Processing Record 20 of Set 6 | fairbanks\n",
      "Processing Record 21 of Set 6 | cabedelo\n",
      "Processing Record 22 of Set 6 | sassandra\n",
      "Processing Record 23 of Set 6 | te anau\n",
      "Processing Record 24 of Set 6 | taranto\n",
      "Processing Record 25 of Set 6 | srednekolymsk\n",
      "Processing Record 26 of Set 6 | diego de almagro\n",
      "Processing Record 27 of Set 6 | clyde river\n",
      "Processing Record 28 of Set 6 | zaykovo\n",
      "Processing Record 29 of Set 6 | goderich\n",
      "Processing Record 30 of Set 6 | isangel\n",
      "Processing Record 31 of Set 6 | mys shmidta\n",
      "City not found. Skipping...\n",
      "Processing Record 32 of Set 6 | westport\n",
      "Processing Record 33 of Set 6 | fortuna\n",
      "Processing Record 34 of Set 6 | najran\n",
      "Processing Record 35 of Set 6 | odweyne\n",
      "Processing Record 36 of Set 6 | chebsara\n",
      "Processing Record 37 of Set 6 | vila velha\n",
      "Processing Record 38 of Set 6 | lar\n",
      "Processing Record 39 of Set 6 | simpang\n",
      "Processing Record 40 of Set 6 | los llanos de aridane\n",
      "Processing Record 41 of Set 6 | hushitai\n",
      "Processing Record 42 of Set 6 | bolungarvik\n",
      "City not found. Skipping...\n",
      "Processing Record 43 of Set 6 | honiara\n",
      "Processing Record 44 of Set 6 | the valley\n",
      "Processing Record 45 of Set 6 | mazatlan\n",
      "Processing Record 46 of Set 6 | murchison\n",
      "Processing Record 47 of Set 6 | olden\n",
      "Processing Record 48 of Set 6 | srandakan\n",
      "Processing Record 49 of Set 6 | caluquembe\n",
      "Processing Record 0 of Set 7 | ponta do sol\n",
      "Processing Record 1 of Set 7 | port hawkesbury\n",
      "Processing Record 2 of Set 7 | chokurdakh\n",
      "Processing Record 3 of Set 7 | norman wells\n",
      "Processing Record 4 of Set 7 | vestmannaeyjar\n",
      "Processing Record 5 of Set 7 | rosarito\n",
      "Processing Record 6 of Set 7 | litovko\n",
      "Processing Record 7 of Set 7 | erenhot\n",
      "Processing Record 8 of Set 7 | morros\n",
      "Processing Record 9 of Set 7 | auki\n",
      "Processing Record 10 of Set 7 | falealupo\n",
      "City not found. Skipping...\n",
      "Processing Record 11 of Set 7 | roma\n",
      "Processing Record 12 of Set 7 | jubayl\n",
      "City not found. Skipping...\n",
      "Processing Record 13 of Set 7 | muravlenko\n",
      "Processing Record 14 of Set 7 | san andres\n",
      "Processing Record 15 of Set 7 | barbar\n",
      "City not found. Skipping...\n",
      "Processing Record 16 of Set 7 | aborlan\n",
      "Processing Record 17 of Set 7 | aras\n",
      "Processing Record 18 of Set 7 | bathsheba\n",
      "Processing Record 19 of Set 7 | khanion tou kokkini\n",
      "City not found. Skipping...\n",
      "Processing Record 20 of Set 7 | vaitupu\n",
      "City not found. Skipping...\n",
      "Processing Record 21 of Set 7 | orda\n",
      "Processing Record 22 of Set 7 | karpathos\n",
      "Processing Record 23 of Set 7 | kijang\n",
      "Processing Record 24 of Set 7 | suntar\n",
      "Processing Record 25 of Set 7 | carutapera\n",
      "Processing Record 26 of Set 7 | buchin\n",
      "Processing Record 27 of Set 7 | uralskiy\n",
      "City not found. Skipping...\n",
      "Processing Record 28 of Set 7 | lagos\n",
      "Processing Record 29 of Set 7 | barre\n",
      "Processing Record 30 of Set 7 | inta\n",
      "Processing Record 31 of Set 7 | virginia beach\n",
      "Processing Record 32 of Set 7 | sioux lookout\n",
      "Processing Record 33 of Set 7 | touho\n",
      "Processing Record 34 of Set 7 | port blair\n",
      "Processing Record 35 of Set 7 | evensk\n",
      "Processing Record 36 of Set 7 | arraial do cabo\n",
      "Processing Record 37 of Set 7 | tongzi\n",
      "Processing Record 38 of Set 7 | tsihombe\n",
      "City not found. Skipping...\n",
      "Processing Record 39 of Set 7 | kuche\n",
      "City not found. Skipping...\n",
      "Processing Record 40 of Set 7 | bartica\n",
      "Processing Record 41 of Set 7 | thinadhoo\n",
      "Processing Record 42 of Set 7 | ylojarvi\n",
      "Processing Record 43 of Set 7 | mildura\n",
      "Processing Record 44 of Set 7 | ahipara\n",
      "Processing Record 45 of Set 7 | alihe\n",
      "Processing Record 46 of Set 7 | viedma\n",
      "Processing Record 47 of Set 7 | hirara\n",
      "Processing Record 48 of Set 7 | verkhnyaya inta\n",
      "Processing Record 49 of Set 7 | alugan\n",
      "Processing Record 0 of Set 8 | maragogi\n",
      "Processing Record 1 of Set 8 | porto santo\n",
      "Processing Record 2 of Set 8 | padang\n",
      "Processing Record 3 of Set 8 | skagen\n",
      "Processing Record 4 of Set 8 | rungata\n",
      "City not found. Skipping...\n",
      "Processing Record 5 of Set 8 | khed\n",
      "Processing Record 6 of Set 8 | gilazi\n",
      "City not found. Skipping...\n",
      "Processing Record 7 of Set 8 | arkhara\n",
      "Processing Record 8 of Set 8 | esmeraldas\n",
      "Processing Record 9 of Set 8 | namibe\n",
      "Processing Record 10 of Set 8 | kangaba\n",
      "Processing Record 11 of Set 8 | nizhneyansk\n",
      "City not found. Skipping...\n",
      "Processing Record 12 of Set 8 | pinega\n",
      "Processing Record 13 of Set 8 | ayr\n",
      "Processing Record 14 of Set 8 | mincivan\n",
      "Processing Record 15 of Set 8 | berkakit\n",
      "Processing Record 16 of Set 8 | toliary\n",
      "City not found. Skipping...\n",
      "Processing Record 17 of Set 8 | herveo\n",
      "Processing Record 18 of Set 8 | lazaro cardenas\n",
      "Processing Record 19 of Set 8 | ilulissat\n",
      "Processing Record 20 of Set 8 | college\n",
      "Processing Record 21 of Set 8 | adrar\n"
     ]
    },
    {
     "name": "stdout",
     "output_type": "stream",
     "text": [
      "Processing Record 22 of Set 8 | mahon\n",
      "Processing Record 23 of Set 8 | teknaf\n",
      "Processing Record 24 of Set 8 | laibin\n",
      "Processing Record 25 of Set 8 | poyarkovo\n",
      "Processing Record 26 of Set 8 | oranjemund\n",
      "Processing Record 27 of Set 8 | lata\n",
      "Processing Record 28 of Set 8 | siddharthanagar\n",
      "Processing Record 29 of Set 8 | boguchany\n",
      "Processing Record 30 of Set 8 | vanavara\n",
      "Processing Record 31 of Set 8 | okakarara\n",
      "Processing Record 32 of Set 8 | tete\n",
      "Processing Record 33 of Set 8 | casablanca\n",
      "Processing Record 34 of Set 8 | lodja\n",
      "Processing Record 35 of Set 8 | presque isle\n",
      "Processing Record 36 of Set 8 | waddan\n",
      "Processing Record 37 of Set 8 | lompoc\n",
      "Processing Record 38 of Set 8 | haapu\n",
      "City not found. Skipping...\n",
      "Processing Record 39 of Set 8 | iskateley\n",
      "Processing Record 40 of Set 8 | shahr-e babak\n",
      "Processing Record 41 of Set 8 | maceio\n",
      "Processing Record 42 of Set 8 | beyneu\n",
      "Processing Record 43 of Set 8 | zeya\n",
      "Processing Record 44 of Set 8 | juifang\n",
      "City not found. Skipping...\n",
      "Processing Record 45 of Set 8 | young\n",
      "Processing Record 46 of Set 8 | marawi\n",
      "Processing Record 47 of Set 8 | manama\n",
      "Processing Record 48 of Set 8 | ust-bolsheretsk\n",
      "City not found. Skipping...\n",
      "Processing Record 49 of Set 8 | beringovskiy\n",
      "Processing Record 0 of Set 9 | campbell river\n",
      "Processing Record 1 of Set 9 | bardiyah\n",
      "Processing Record 2 of Set 9 | yarmouth\n",
      "Processing Record 3 of Set 9 | deniliquin\n",
      "Processing Record 4 of Set 9 | ponta delgada\n",
      "Processing Record 5 of Set 9 | iquitos\n",
      "Processing Record 6 of Set 9 | kropotkin\n",
      "Processing Record 7 of Set 9 | caucaia\n",
      "Processing Record 8 of Set 9 | launceston\n",
      "Processing Record 9 of Set 9 | pemangkat\n",
      "Processing Record 10 of Set 9 | chernyshevskiy\n",
      "Processing Record 11 of Set 9 | bermejo\n",
      "Processing Record 12 of Set 9 | petropavlovsk-kamchatskiy\n",
      "Processing Record 13 of Set 9 | piracanjuba\n",
      "Processing Record 14 of Set 9 | krasnyy chikoy\n",
      "Processing Record 15 of Set 9 | russell\n",
      "Processing Record 16 of Set 9 | bintulu\n",
      "Processing Record 17 of Set 9 | nantucket\n",
      "Processing Record 18 of Set 9 | yokadouma\n",
      "Processing Record 19 of Set 9 | termoli\n",
      "Processing Record 20 of Set 9 | isiro\n",
      "Processing Record 21 of Set 9 | nortelandia\n",
      "Processing Record 22 of Set 9 | puerto madryn\n",
      "Processing Record 23 of Set 9 | itoman\n",
      "Processing Record 24 of Set 9 | khonuu\n",
      "City not found. Skipping...\n",
      "Processing Record 25 of Set 9 | gravdal\n",
      "Processing Record 26 of Set 9 | san carlos de bariloche\n",
      "Processing Record 27 of Set 9 | dharangaon\n",
      "Processing Record 28 of Set 9 | hovd\n",
      "Processing Record 29 of Set 9 | harer\n",
      "Processing Record 30 of Set 9 | deer lake\n",
      "Processing Record 31 of Set 9 | mehamn\n",
      "Processing Record 32 of Set 9 | dongsheng\n",
      "Processing Record 33 of Set 9 | stoyba\n",
      "City not found. Skipping...\n",
      "Processing Record 34 of Set 9 | donskoye\n",
      "Processing Record 35 of Set 9 | rab\n",
      "City not found. Skipping...\n",
      "Processing Record 36 of Set 9 | sitka\n",
      "Processing Record 37 of Set 9 | lyaskelya\n",
      "Processing Record 38 of Set 9 | manggar\n",
      "Processing Record 39 of Set 9 | lebu\n",
      "Processing Record 40 of Set 9 | ternate\n",
      "Processing Record 41 of Set 9 | azimur\n",
      "City not found. Skipping...\n",
      "Processing Record 42 of Set 9 | umm durman\n",
      "City not found. Skipping...\n",
      "Processing Record 43 of Set 9 | vestmanna\n",
      "Processing Record 44 of Set 9 | zhezkazgan\n",
      "Processing Record 45 of Set 9 | ondjiva\n",
      "Processing Record 46 of Set 9 | uray\n",
      "Processing Record 47 of Set 9 | waiuku\n",
      "Processing Record 48 of Set 9 | belyy yar\n",
      "Processing Record 49 of Set 9 | tawang\n",
      "Processing Record 0 of Set 10 | kavieng\n",
      "Processing Record 1 of Set 10 | poum\n",
      "Processing Record 2 of Set 10 | champasak\n",
      "Processing Record 3 of Set 10 | armacao dos buzios\n",
      "City not found. Skipping...\n",
      "Processing Record 4 of Set 10 | kodinsk\n",
      "Processing Record 5 of Set 10 | quebec\n",
      "Processing Record 6 of Set 10 | angoche\n",
      "Processing Record 7 of Set 10 | sars\n",
      "Processing Record 8 of Set 10 | lufilufi\n",
      "Processing Record 9 of Set 10 | ascension\n",
      "Processing Record 10 of Set 10 | igarka\n",
      "Processing Record 11 of Set 10 | port-gentil\n",
      "Processing Record 12 of Set 10 | ketchenery\n",
      "City not found. Skipping...\n",
      "Processing Record 13 of Set 10 | nanortalik\n",
      "Processing Record 14 of Set 10 | buraydah\n",
      "Processing Record 15 of Set 10 | vagur\n",
      "Processing Record 16 of Set 10 | marystown\n",
      "Processing Record 17 of Set 10 | bafq\n",
      "Processing Record 18 of Set 10 | emerald\n",
      "Processing Record 19 of Set 10 | suzun\n",
      "Processing Record 20 of Set 10 | vaitape\n",
      "Processing Record 21 of Set 10 | aktash\n",
      "Processing Record 22 of Set 10 | kazalinsk\n",
      "City not found. Skipping...\n",
      "Processing Record 23 of Set 10 | tchollire\n",
      "Processing Record 24 of Set 10 | grindavik\n",
      "Processing Record 25 of Set 10 | puerto leguizamo\n",
      "Processing Record 26 of Set 10 | betsiamites\n",
      "Processing Record 27 of Set 10 | ostrovnoy\n",
      "Processing Record 28 of Set 10 | abilene\n",
      "Processing Record 29 of Set 10 | grafton\n",
      "Processing Record 30 of Set 10 | solovetskiy\n",
      "City not found. Skipping...\n",
      "Processing Record 31 of Set 10 | general roca\n",
      "Processing Record 32 of Set 10 | atikokan\n",
      "Processing Record 33 of Set 10 | monte patria\n",
      "Processing Record 34 of Set 10 | krasnyy yar\n",
      "Processing Record 35 of Set 10 | sinnamary\n",
      "Processing Record 36 of Set 10 | anzio\n",
      "Processing Record 37 of Set 10 | toftir\n",
      "City not found. Skipping...\n",
      "Processing Record 38 of Set 10 | constitucion\n",
      "Processing Record 39 of Set 10 | kuopio\n",
      "Processing Record 40 of Set 10 | masallatah\n",
      "Processing Record 41 of Set 10 | dingli\n",
      "Processing Record 42 of Set 10 | saleaula\n",
      "City not found. Skipping...\n",
      "Processing Record 43 of Set 10 | longlac\n",
      "City not found. Skipping...\n",
      "Processing Record 44 of Set 10 | parli\n",
      "Processing Record 45 of Set 10 | margate\n",
      "Processing Record 46 of Set 10 | caravelas\n",
      "Processing Record 47 of Set 10 | labuhan\n",
      "Processing Record 48 of Set 10 | carballo\n",
      "Processing Record 49 of Set 10 | aykhal\n",
      "Processing Record 0 of Set 11 | kissidougou\n",
      "Processing Record 1 of Set 11 | tumannyy\n",
      "City not found. Skipping...\n",
      "Processing Record 2 of Set 11 | guerrero negro\n",
      "Processing Record 3 of Set 11 | baherden\n",
      "Processing Record 4 of Set 11 | port macquarie\n",
      "Processing Record 5 of Set 11 | korzhevskiy\n",
      "Processing Record 6 of Set 11 | karratha\n",
      "Processing Record 7 of Set 11 | hambantota\n",
      "Processing Record 8 of Set 11 | galle\n",
      "Processing Record 9 of Set 11 | teseney\n",
      "Processing Record 10 of Set 11 | katete\n",
      "Processing Record 11 of Set 11 | kedrovyy\n",
      "Processing Record 12 of Set 11 | labuan\n",
      "Processing Record 13 of Set 11 | puerto escondido\n",
      "Processing Record 14 of Set 11 | guajara-mirim\n",
      "City not found. Skipping...\n",
      "Processing Record 15 of Set 11 | morondava\n",
      "Processing Record 16 of Set 11 | matara\n",
      "Processing Record 17 of Set 11 | olinda\n",
      "Processing Record 18 of Set 11 | yalvac\n",
      "Processing Record 19 of Set 11 | hasilpur\n",
      "Processing Record 20 of Set 11 | banda aceh\n",
      "Processing Record 21 of Set 11 | kangaatsiaq\n",
      "Processing Record 22 of Set 11 | baiao\n",
      "Processing Record 23 of Set 11 | stephenville\n",
      "Processing Record 24 of Set 11 | brigantine\n",
      "Processing Record 25 of Set 11 | moju\n",
      "Processing Record 26 of Set 11 | shiraz\n",
      "Processing Record 27 of Set 11 | gizo\n",
      "Processing Record 28 of Set 11 | paamiut\n",
      "Processing Record 29 of Set 11 | attawapiskat\n",
      "City not found. Skipping...\n",
      "Processing Record 30 of Set 11 | melville\n",
      "Processing Record 31 of Set 11 | pulandian\n",
      "Processing Record 32 of Set 11 | smithers\n",
      "Processing Record 33 of Set 11 | santana do ipanema\n",
      "Processing Record 34 of Set 11 | mareeba\n",
      "Processing Record 35 of Set 11 | jining\n",
      "Processing Record 36 of Set 11 | xuddur\n",
      "Processing Record 37 of Set 11 | pyshchug\n",
      "Processing Record 38 of Set 11 | chingirlau\n",
      "Processing Record 39 of Set 11 | mtwara\n",
      "Processing Record 40 of Set 11 | taylorville\n",
      "Processing Record 41 of Set 11 | novo aripuana\n",
      "Processing Record 42 of Set 11 | hendersonville\n",
      "Processing Record 43 of Set 11 | komsomolskiy\n",
      "Processing Record 44 of Set 11 | naze\n",
      "Processing Record 45 of Set 11 | kizner\n",
      "Processing Record 46 of Set 11 | ocotepec\n",
      "Processing Record 47 of Set 11 | sao felix do xingu\n",
      "Processing Record 48 of Set 11 | henties bay\n",
      "Processing Record 49 of Set 11 | lulea\n",
      "Processing Record 0 of Set 12 | conde\n",
      "Processing Record 1 of Set 12 | udachnyy\n",
      "Processing Record 2 of Set 12 | dubai\n",
      "Processing Record 3 of Set 12 | lerwick\n",
      "Processing Record 4 of Set 12 | pobe\n",
      "Processing Record 5 of Set 12 | suozhen\n"
     ]
    },
    {
     "name": "stdout",
     "output_type": "stream",
     "text": [
      "Processing Record 6 of Set 12 | elk city\n",
      "Processing Record 7 of Set 12 | cassilandia\n",
      "Processing Record 8 of Set 12 | san-pedro\n",
      "Processing Record 9 of Set 12 | bom jesus\n",
      "Processing Record 10 of Set 12 | chlumec\n",
      "Processing Record 11 of Set 12 | sandwick\n",
      "Processing Record 12 of Set 12 | shumikha\n",
      "Processing Record 13 of Set 12 | swiecie\n",
      "Processing Record 14 of Set 12 | chiredzi\n",
      "Processing Record 15 of Set 12 | babstovo\n",
      "Processing Record 16 of Set 12 | korla\n",
      "Processing Record 17 of Set 12 | vardo\n",
      "Processing Record 18 of Set 12 | hay river\n",
      "Processing Record 19 of Set 12 | jos\n",
      "Processing Record 20 of Set 12 | marsa matruh\n",
      "Processing Record 21 of Set 12 | westpunt\n",
      "City not found. Skipping...\n",
      "Processing Record 22 of Set 12 | kununurra\n",
      "Processing Record 23 of Set 12 | touros\n",
      "Processing Record 24 of Set 12 | wanning\n",
      "Processing Record 25 of Set 12 | lolua\n",
      "City not found. Skipping...\n",
      "Processing Record 26 of Set 12 | dayong\n",
      "Processing Record 27 of Set 12 | aquiraz\n",
      "Processing Record 28 of Set 12 | formoso do araguaia\n",
      "City not found. Skipping...\n",
      "Processing Record 29 of Set 12 | sao jose de ribamar\n",
      "Processing Record 30 of Set 12 | maldonado\n",
      "Processing Record 31 of Set 12 | tubruq\n",
      "City not found. Skipping...\n",
      "Processing Record 32 of Set 12 | xiaoshi\n",
      "Processing Record 33 of Set 12 | merauke\n",
      "Processing Record 34 of Set 12 | sao joao da barra\n",
      "Processing Record 35 of Set 12 | kirovskiy\n",
      "Processing Record 36 of Set 12 | sorong\n",
      "Processing Record 37 of Set 12 | ogori\n",
      "Processing Record 38 of Set 12 | vieste\n",
      "Processing Record 39 of Set 12 | craig\n",
      "Processing Record 40 of Set 12 | bababe\n",
      "City not found. Skipping...\n",
      "Processing Record 41 of Set 12 | mao\n",
      "Processing Record 42 of Set 12 | pala\n",
      "Processing Record 43 of Set 12 | caconda\n",
      "Processing Record 44 of Set 12 | sorland\n",
      "Processing Record 45 of Set 12 | safaga\n",
      "Processing Record 46 of Set 12 | faxinal\n",
      "Processing Record 47 of Set 12 | sunbury\n",
      "Processing Record 48 of Set 12 | linjiang\n",
      "Processing Record 49 of Set 12 | elizabeth city\n",
      "Processing Record 0 of Set 13 | khani\n",
      "-----------------------------\n",
      "Data Retrieval Complete      \n",
      "-----------------------------\n"
     ]
    }
   ],
   "source": [
    "# Starting URL for Weather Map API Call\n",
    "url = \"http://api.openweathermap.org/data/2.5/weather?units=Imperial&APPID=\" + weather_api_key \n",
    "\n",
    "# List of city data\n",
    "city_data = []\n",
    "\n",
    "# Print to logger\n",
    "print(\"Beginning Data Retrieval     \")\n",
    "print(\"-----------------------------\")\n",
    "\n",
    "# Create counters\n",
    "record_count = 1\n",
    "set_count = 1\n",
    "\n",
    "# Loop through all the cities in our list\n",
    "for i, city in enumerate(cities):\n",
    "        \n",
    "    # Group cities in sets of 50 for logging purposes\n",
    "    if (i % 50 == 0 and i >= 50):\n",
    "        set_count += 1\n",
    "        record_count = 0\n",
    "\n",
    "    # Create endpoint URL with each city\n",
    "    city_url = url + \"&q=\" + city\n",
    "    \n",
    "    # Log the url, record, and set numbers\n",
    "    print(\"Processing Record %s of Set %s | %s\" % (record_count, set_count, city))\n",
    "\n",
    "    # Add 1 to the record count\n",
    "    record_count += 1\n",
    "\n",
    "    # Run an API request for each of the cities\n",
    "    try:\n",
    "        # Parse the JSON and retrieve data\n",
    "        city_weather = requests.get(city_url).json()\n",
    "\n",
    "        # Parse out the max temp, humidity, and cloudiness\n",
    "        city_lat = city_weather[\"coord\"][\"lat\"]\n",
    "        city_lng = city_weather[\"coord\"][\"lon\"]\n",
    "        city_max_temp = city_weather[\"main\"][\"temp_max\"]\n",
    "        city_humidity = city_weather[\"main\"][\"humidity\"]\n",
    "        city_clouds = city_weather[\"clouds\"][\"all\"]\n",
    "        city_wind = city_weather[\"wind\"][\"speed\"]\n",
    "        city_country = city_weather[\"sys\"][\"country\"]\n",
    "        city_date = city_weather[\"dt\"]\n",
    "\n",
    "        # Append the City information into city_data list\n",
    "        city_data.append({\"City\": city, \n",
    "                          \"Lat\": city_lat, \n",
    "                          \"Lng\": city_lng, \n",
    "                          \"Max Temp\": city_max_temp,\n",
    "                          \"Humidity\": city_humidity,\n",
    "                          \"Cloudiness\": city_clouds,\n",
    "                          \"Wind Speed\": city_wind,\n",
    "                          \"Country\": city_country,\n",
    "                          \"Date\": city_date})\n",
    "\n",
    "    # If an error is experienced, skip the city\n",
    "    except:\n",
    "        print(\"City not found. Skipping...\")\n",
    "        pass\n",
    "              \n",
    "# Indicate that Data Loading is complete \n",
    "print(\"-----------------------------\")\n",
    "print(\"Data Retrieval Complete      \")\n",
    "print(\"-----------------------------\")"
   ]
  },
  {
   "cell_type": "code",
   "execution_count": 7,
   "metadata": {},
   "outputs": [
    {
     "data": {
      "text/plain": [
       "City          540\n",
       "Lat           540\n",
       "Lng           540\n",
       "Max Temp      540\n",
       "Humidity      540\n",
       "Cloudiness    540\n",
       "Wind Speed    540\n",
       "Country       540\n",
       "Date          540\n",
       "dtype: int64"
      ]
     },
     "execution_count": 7,
     "metadata": {},
     "output_type": "execute_result"
    }
   ],
   "source": [
    "# Convert array of JSONs into Pandas DataFrame\n",
    "city_data_df = pd.DataFrame(city_data)\n",
    "\n",
    "# Show Record Count\n",
    "city_data_df.count()"
   ]
  },
  {
   "cell_type": "code",
   "execution_count": 8,
   "metadata": {},
   "outputs": [
    {
     "data": {
      "text/html": [
       "<div>\n",
       "<style scoped>\n",
       "    .dataframe tbody tr th:only-of-type {\n",
       "        vertical-align: middle;\n",
       "    }\n",
       "\n",
       "    .dataframe tbody tr th {\n",
       "        vertical-align: top;\n",
       "    }\n",
       "\n",
       "    .dataframe thead th {\n",
       "        text-align: right;\n",
       "    }\n",
       "</style>\n",
       "<table border=\"1\" class=\"dataframe\">\n",
       "  <thead>\n",
       "    <tr style=\"text-align: right;\">\n",
       "      <th></th>\n",
       "      <th>City</th>\n",
       "      <th>Lat</th>\n",
       "      <th>Lng</th>\n",
       "      <th>Max Temp</th>\n",
       "      <th>Humidity</th>\n",
       "      <th>Cloudiness</th>\n",
       "      <th>Wind Speed</th>\n",
       "      <th>Country</th>\n",
       "      <th>Date</th>\n",
       "    </tr>\n",
       "  </thead>\n",
       "  <tbody>\n",
       "    <tr>\n",
       "      <th>0</th>\n",
       "      <td>rikitea</td>\n",
       "      <td>-23.12</td>\n",
       "      <td>-134.97</td>\n",
       "      <td>72.75</td>\n",
       "      <td>80</td>\n",
       "      <td>6</td>\n",
       "      <td>24.94</td>\n",
       "      <td>PF</td>\n",
       "      <td>1595098260</td>\n",
       "    </tr>\n",
       "    <tr>\n",
       "      <th>1</th>\n",
       "      <td>oktyabrskoye</td>\n",
       "      <td>43.06</td>\n",
       "      <td>44.74</td>\n",
       "      <td>77.00</td>\n",
       "      <td>69</td>\n",
       "      <td>0</td>\n",
       "      <td>4.47</td>\n",
       "      <td>RU</td>\n",
       "      <td>1595098261</td>\n",
       "    </tr>\n",
       "    <tr>\n",
       "      <th>2</th>\n",
       "      <td>bluff</td>\n",
       "      <td>-46.60</td>\n",
       "      <td>168.33</td>\n",
       "      <td>36.52</td>\n",
       "      <td>81</td>\n",
       "      <td>0</td>\n",
       "      <td>7.09</td>\n",
       "      <td>NZ</td>\n",
       "      <td>1595098261</td>\n",
       "    </tr>\n",
       "    <tr>\n",
       "      <th>3</th>\n",
       "      <td>mataura</td>\n",
       "      <td>-46.19</td>\n",
       "      <td>168.86</td>\n",
       "      <td>30.78</td>\n",
       "      <td>93</td>\n",
       "      <td>0</td>\n",
       "      <td>2.44</td>\n",
       "      <td>NZ</td>\n",
       "      <td>1595098261</td>\n",
       "    </tr>\n",
       "    <tr>\n",
       "      <th>4</th>\n",
       "      <td>kapaa</td>\n",
       "      <td>22.08</td>\n",
       "      <td>-159.32</td>\n",
       "      <td>82.40</td>\n",
       "      <td>78</td>\n",
       "      <td>75</td>\n",
       "      <td>8.05</td>\n",
       "      <td>US</td>\n",
       "      <td>1595098261</td>\n",
       "    </tr>\n",
       "  </tbody>\n",
       "</table>\n",
       "</div>"
      ],
      "text/plain": [
       "           City    Lat     Lng  Max Temp  Humidity  Cloudiness  Wind Speed  \\\n",
       "0       rikitea -23.12 -134.97     72.75        80           6       24.94   \n",
       "1  oktyabrskoye  43.06   44.74     77.00        69           0        4.47   \n",
       "2         bluff -46.60  168.33     36.52        81           0        7.09   \n",
       "3       mataura -46.19  168.86     30.78        93           0        2.44   \n",
       "4         kapaa  22.08 -159.32     82.40        78          75        8.05   \n",
       "\n",
       "  Country        Date  \n",
       "0      PF  1595098260  \n",
       "1      RU  1595098261  \n",
       "2      NZ  1595098261  \n",
       "3      NZ  1595098261  \n",
       "4      US  1595098261  "
      ]
     },
     "execution_count": 8,
     "metadata": {},
     "output_type": "execute_result"
    }
   ],
   "source": [
    "# Display the City Data Frame\n",
    "city_data_df.head()"
   ]
  },
  {
   "cell_type": "code",
   "execution_count": 9,
   "metadata": {},
   "outputs": [
    {
     "data": {
      "text/html": [
       "<div>\n",
       "<style scoped>\n",
       "    .dataframe tbody tr th:only-of-type {\n",
       "        vertical-align: middle;\n",
       "    }\n",
       "\n",
       "    .dataframe tbody tr th {\n",
       "        vertical-align: top;\n",
       "    }\n",
       "\n",
       "    .dataframe thead th {\n",
       "        text-align: right;\n",
       "    }\n",
       "</style>\n",
       "<table border=\"1\" class=\"dataframe\">\n",
       "  <thead>\n",
       "    <tr style=\"text-align: right;\">\n",
       "      <th></th>\n",
       "      <th>Lat</th>\n",
       "      <th>Lng</th>\n",
       "      <th>Max Temp</th>\n",
       "      <th>Humidity</th>\n",
       "      <th>Cloudiness</th>\n",
       "      <th>Wind Speed</th>\n",
       "      <th>Date</th>\n",
       "    </tr>\n",
       "  </thead>\n",
       "  <tbody>\n",
       "    <tr>\n",
       "      <th>count</th>\n",
       "      <td>540.000000</td>\n",
       "      <td>540.000000</td>\n",
       "      <td>540.000000</td>\n",
       "      <td>540.000000</td>\n",
       "      <td>540.000000</td>\n",
       "      <td>540.000000</td>\n",
       "      <td>5.400000e+02</td>\n",
       "    </tr>\n",
       "    <tr>\n",
       "      <th>mean</th>\n",
       "      <td>20.618907</td>\n",
       "      <td>20.215185</td>\n",
       "      <td>70.200870</td>\n",
       "      <td>68.942593</td>\n",
       "      <td>47.718519</td>\n",
       "      <td>7.894056</td>\n",
       "      <td>1.595098e+09</td>\n",
       "    </tr>\n",
       "    <tr>\n",
       "      <th>std</th>\n",
       "      <td>33.891308</td>\n",
       "      <td>89.888801</td>\n",
       "      <td>14.702804</td>\n",
       "      <td>21.526927</td>\n",
       "      <td>39.843321</td>\n",
       "      <td>5.128256</td>\n",
       "      <td>6.320599e+01</td>\n",
       "    </tr>\n",
       "    <tr>\n",
       "      <th>min</th>\n",
       "      <td>-54.800000</td>\n",
       "      <td>-175.200000</td>\n",
       "      <td>30.780000</td>\n",
       "      <td>3.000000</td>\n",
       "      <td>0.000000</td>\n",
       "      <td>0.340000</td>\n",
       "      <td>1.595098e+09</td>\n",
       "    </tr>\n",
       "    <tr>\n",
       "      <th>25%</th>\n",
       "      <td>-7.917500</td>\n",
       "      <td>-57.462500</td>\n",
       "      <td>58.510000</td>\n",
       "      <td>56.000000</td>\n",
       "      <td>1.000000</td>\n",
       "      <td>4.127500</td>\n",
       "      <td>1.595098e+09</td>\n",
       "    </tr>\n",
       "    <tr>\n",
       "      <th>50%</th>\n",
       "      <td>26.830000</td>\n",
       "      <td>24.055000</td>\n",
       "      <td>73.125000</td>\n",
       "      <td>74.500000</td>\n",
       "      <td>40.000000</td>\n",
       "      <td>6.930000</td>\n",
       "      <td>1.595098e+09</td>\n",
       "    </tr>\n",
       "    <tr>\n",
       "      <th>75%</th>\n",
       "      <td>48.805000</td>\n",
       "      <td>102.335000</td>\n",
       "      <td>80.600000</td>\n",
       "      <td>86.000000</td>\n",
       "      <td>90.000000</td>\n",
       "      <td>10.712500</td>\n",
       "      <td>1.595098e+09</td>\n",
       "    </tr>\n",
       "    <tr>\n",
       "      <th>max</th>\n",
       "      <td>78.220000</td>\n",
       "      <td>179.320000</td>\n",
       "      <td>108.070000</td>\n",
       "      <td>100.000000</td>\n",
       "      <td>100.000000</td>\n",
       "      <td>32.660000</td>\n",
       "      <td>1.595098e+09</td>\n",
       "    </tr>\n",
       "  </tbody>\n",
       "</table>\n",
       "</div>"
      ],
      "text/plain": [
       "              Lat         Lng    Max Temp    Humidity  Cloudiness  Wind Speed  \\\n",
       "count  540.000000  540.000000  540.000000  540.000000  540.000000  540.000000   \n",
       "mean    20.618907   20.215185   70.200870   68.942593   47.718519    7.894056   \n",
       "std     33.891308   89.888801   14.702804   21.526927   39.843321    5.128256   \n",
       "min    -54.800000 -175.200000   30.780000    3.000000    0.000000    0.340000   \n",
       "25%     -7.917500  -57.462500   58.510000   56.000000    1.000000    4.127500   \n",
       "50%     26.830000   24.055000   73.125000   74.500000   40.000000    6.930000   \n",
       "75%     48.805000  102.335000   80.600000   86.000000   90.000000   10.712500   \n",
       "max     78.220000  179.320000  108.070000  100.000000  100.000000   32.660000   \n",
       "\n",
       "               Date  \n",
       "count  5.400000e+02  \n",
       "mean   1.595098e+09  \n",
       "std    6.320599e+01  \n",
       "min    1.595098e+09  \n",
       "25%    1.595098e+09  \n",
       "50%    1.595098e+09  \n",
       "75%    1.595098e+09  \n",
       "max    1.595098e+09  "
      ]
     },
     "execution_count": 9,
     "metadata": {},
     "output_type": "execute_result"
    }
   ],
   "source": [
    "# Check data stats\n",
    "city_data_df.describe()"
   ]
  },
  {
   "cell_type": "code",
   "execution_count": 10,
   "metadata": {},
   "outputs": [],
   "source": [
    "#  Get the indices of cities that have humidity over 100%.\n",
    "dirty_city_data = city_data_df[(city_data_df[\"Humidity\"] > 100)].index"
   ]
  },
  {
   "cell_type": "code",
   "execution_count": 11,
   "metadata": {},
   "outputs": [
    {
     "data": {
      "text/html": [
       "<div>\n",
       "<style scoped>\n",
       "    .dataframe tbody tr th:only-of-type {\n",
       "        vertical-align: middle;\n",
       "    }\n",
       "\n",
       "    .dataframe tbody tr th {\n",
       "        vertical-align: top;\n",
       "    }\n",
       "\n",
       "    .dataframe thead th {\n",
       "        text-align: right;\n",
       "    }\n",
       "</style>\n",
       "<table border=\"1\" class=\"dataframe\">\n",
       "  <thead>\n",
       "    <tr style=\"text-align: right;\">\n",
       "      <th></th>\n",
       "      <th>City</th>\n",
       "      <th>Lat</th>\n",
       "      <th>Lng</th>\n",
       "      <th>Max Temp</th>\n",
       "      <th>Humidity</th>\n",
       "      <th>Cloudiness</th>\n",
       "      <th>Wind Speed</th>\n",
       "      <th>Country</th>\n",
       "      <th>Date</th>\n",
       "    </tr>\n",
       "  </thead>\n",
       "  <tbody>\n",
       "    <tr>\n",
       "      <th>0</th>\n",
       "      <td>rikitea</td>\n",
       "      <td>-23.12</td>\n",
       "      <td>-134.97</td>\n",
       "      <td>72.75</td>\n",
       "      <td>80</td>\n",
       "      <td>6</td>\n",
       "      <td>24.94</td>\n",
       "      <td>PF</td>\n",
       "      <td>1595098260</td>\n",
       "    </tr>\n",
       "    <tr>\n",
       "      <th>1</th>\n",
       "      <td>oktyabrskoye</td>\n",
       "      <td>43.06</td>\n",
       "      <td>44.74</td>\n",
       "      <td>77.00</td>\n",
       "      <td>69</td>\n",
       "      <td>0</td>\n",
       "      <td>4.47</td>\n",
       "      <td>RU</td>\n",
       "      <td>1595098261</td>\n",
       "    </tr>\n",
       "    <tr>\n",
       "      <th>2</th>\n",
       "      <td>bluff</td>\n",
       "      <td>-46.60</td>\n",
       "      <td>168.33</td>\n",
       "      <td>36.52</td>\n",
       "      <td>81</td>\n",
       "      <td>0</td>\n",
       "      <td>7.09</td>\n",
       "      <td>NZ</td>\n",
       "      <td>1595098261</td>\n",
       "    </tr>\n",
       "    <tr>\n",
       "      <th>3</th>\n",
       "      <td>mataura</td>\n",
       "      <td>-46.19</td>\n",
       "      <td>168.86</td>\n",
       "      <td>30.78</td>\n",
       "      <td>93</td>\n",
       "      <td>0</td>\n",
       "      <td>2.44</td>\n",
       "      <td>NZ</td>\n",
       "      <td>1595098261</td>\n",
       "    </tr>\n",
       "    <tr>\n",
       "      <th>4</th>\n",
       "      <td>kapaa</td>\n",
       "      <td>22.08</td>\n",
       "      <td>-159.32</td>\n",
       "      <td>82.40</td>\n",
       "      <td>78</td>\n",
       "      <td>75</td>\n",
       "      <td>8.05</td>\n",
       "      <td>US</td>\n",
       "      <td>1595098261</td>\n",
       "    </tr>\n",
       "  </tbody>\n",
       "</table>\n",
       "</div>"
      ],
      "text/plain": [
       "           City    Lat     Lng  Max Temp  Humidity  Cloudiness  Wind Speed  \\\n",
       "0       rikitea -23.12 -134.97     72.75        80           6       24.94   \n",
       "1  oktyabrskoye  43.06   44.74     77.00        69           0        4.47   \n",
       "2         bluff -46.60  168.33     36.52        81           0        7.09   \n",
       "3       mataura -46.19  168.86     30.78        93           0        2.44   \n",
       "4         kapaa  22.08 -159.32     82.40        78          75        8.05   \n",
       "\n",
       "  Country        Date  \n",
       "0      PF  1595098260  \n",
       "1      RU  1595098261  \n",
       "2      NZ  1595098261  \n",
       "3      NZ  1595098261  \n",
       "4      US  1595098261  "
      ]
     },
     "execution_count": 11,
     "metadata": {},
     "output_type": "execute_result"
    }
   ],
   "source": [
    "# Make a new DataFrame equal to the city data to drop all humidity outliers by index.\n",
    "# Passing \"inplace=False\" will make a copy of the city_data DataFrame, which we call \"clean_city_data\".\n",
    "clean_city_data = city_data_df.drop(dirty_city_data, inplace=False)\n",
    "clean_city_data.head()"
   ]
  },
  {
   "cell_type": "code",
   "execution_count": 12,
   "metadata": {},
   "outputs": [],
   "source": [
    "# Extract relevant fields from the data frame\n",
    "lats = clean_city_data[\"Lat\"]\n",
    "max_temps = clean_city_data[\"Max Temp\"]\n",
    "humidity = clean_city_data[\"Humidity\"]\n",
    "cloudiness = clean_city_data[\"Cloudiness\"]\n",
    "wind_speed = clean_city_data[\"Wind Speed\"]\n",
    "\n",
    "# Export the City_Data into a csv\n",
    "clean_city_data.to_csv(output_data_file, index_label=\"City_ID\")"
   ]
  },
  {
   "cell_type": "markdown",
   "metadata": {},
   "source": [
    "## Latitude vs Temperature Plot"
   ]
  },
  {
   "cell_type": "code",
   "execution_count": 13,
   "metadata": {},
   "outputs": [
    {
     "data": {
      "image/png": "[encoded data removed]",
      "text/plain": [
       "<Figure size 432x288 with 1 Axes>"
      ]
     },
     "metadata": {
      "needs_background": "light"
     },
     "output_type": "display_data"
    }
   ],
   "source": [
    "# Build scatter plot for latitude vs. temperature\n",
    "plt.scatter(lats, max_temps,\n",
    "            edgecolor=\"black\", linewidths=1, marker=\"o\", \n",
    "            alpha=1.0, label=\"Cities\", color = \"lightgreen\")\n",
    "\n",
    "# Incorporate the other graph properties, add today's date for reference\n",
    "plt.title(\"City Latitude vs. Max Temperature (%s)\" % time.strftime(\"%x\"))\n",
    "plt.ylabel(\"Max Temperature (F)\")\n",
    "plt.xlabel(\"Latitude\")\n",
    "plt.grid(True)\n",
    "\n",
    "# Save the figure\n",
    "plt.savefig(\"output_data/Fig1.png\")\n",
    "\n",
    "# Show plot\n",
    "plt.show()"
   ]
  },
  {
   "cell_type": "markdown",
   "metadata": {},
   "source": [
    "### The weather becomes warmer the closer you get to the equator (0 degrees latitude). There are some spikes in temperature between 20 degrees and 40 degrees latitude.¶\n"
   ]
  },
  {
   "cell_type": "markdown",
   "metadata": {},
   "source": [
    "## Latitude vs Humidity Plot"
   ]
  },
  {
   "cell_type": "code",
   "execution_count": 14,
   "metadata": {},
   "outputs": [
    {
     "data": {
      "image/png": "[encoded data removed]",
      "text/plain": [
       "<Figure size 432x288 with 1 Axes>"
      ]
     },
     "metadata": {
      "needs_background": "light"
     },
     "output_type": "display_data"
    }
   ],
   "source": [
    "# Build the scatter plots for latitude vs. humidity\n",
    "plt.scatter(lats, humidity,\n",
    "            edgecolor=\"black\", linewidths=1, marker=\"o\", \n",
    "            alpha=1.0, label=\"Cities\", color = \"lightgreen\")\n",
    "\n",
    "# Incorporate the other graph properties, add today's date for reference\n",
    "plt.title(\"City Latitude vs. Humidity (%s)\" % time.strftime(\"%x\"))\n",
    "plt.ylabel(\"Humidity (%)\")\n",
    "plt.xlabel(\"Latitude\")\n",
    "plt.grid(True)\n",
    "\n",
    "# Save the figure\n",
    "plt.savefig(\"output_data/Fig2.png\")\n",
    "\n",
    "# Show plot\n",
    "plt.show()"
   ]
  },
  {
   "cell_type": "markdown",
   "metadata": {},
   "source": [
    "### Latitude and humiditiy have no direct relationship."
   ]
  },
  {
   "cell_type": "markdown",
   "metadata": {},
   "source": [
    "## Latitude vs Cloudiness Plot"
   ]
  },
  {
   "cell_type": "code",
   "execution_count": 15,
   "metadata": {},
   "outputs": [
    {
     "data": {
      "image/png": "[encoded data removed]",
      "text/plain": [
       "<Figure size 432x288 with 1 Axes>"
      ]
     },
     "metadata": {
      "needs_background": "light"
     },
     "output_type": "display_data"
    }
   ],
   "source": [
    "# Build the scatter plots for latitude vs. cloudiness\n",
    "plt.scatter(lats, cloudiness,\n",
    "            edgecolor=\"black\", linewidths=1, marker=\"o\", \n",
    "            alpha=1.0, label=\"Cities\", color = \"lightgreen\")\n",
    "\n",
    "# Incorporate the other graph properties, add today's date for reference\n",
    "plt.title(\"City Latitude vs. Cloudiness (%s)\" % time.strftime(\"%x\"))\n",
    "plt.ylabel(\"Cloudiness (%)\")\n",
    "plt.xlabel(\"Latitude\")\n",
    "plt.grid(True)\n",
    "\n",
    "# Save the figure\n",
    "plt.savefig(\"output_data/Fig3.png\")\n",
    "\n",
    "# Show plot\n",
    "plt.show()"
   ]
  },
  {
   "cell_type": "markdown",
   "metadata": {},
   "source": [
    "### Latitude and cloudiness have no direct relationship."
   ]
  },
  {
   "cell_type": "markdown",
   "metadata": {},
   "source": [
    "## Latitude vs Wind Speed Plot"
   ]
  },
  {
   "cell_type": "code",
   "execution_count": 16,
   "metadata": {},
   "outputs": [
    {
     "data": {
      "image/png": "[encoded data removed]",
      "text/plain": [
       "<Figure size 432x288 with 1 Axes>"
      ]
     },
     "metadata": {
      "needs_background": "light"
     },
     "output_type": "display_data"
    }
   ],
   "source": [
    "# Build the scatter plots for latitude vs. wind speed\n",
    "plt.scatter(lats, wind_speed,\n",
    "            edgecolor=\"black\", linewidths=1, marker=\"o\", \n",
    "            alpha=1.0, label=\"Cities\", color = \"lightgreen\")\n",
    "\n",
    "# Incorporate the other graph properties, add today's date for reference\n",
    "plt.title(\"City Latitude vs. Wind Speed (%s)\" % time.strftime(\"%x\"))\n",
    "plt.ylabel(\"Wind Speed (mph)\")\n",
    "plt.xlabel(\"Latitude\")\n",
    "plt.grid(True)\n",
    "\n",
    "# Save the figure\n",
    "plt.savefig(\"output_data/Fig4.png\")\n",
    "\n",
    "# Show plot\n",
    "plt.show()"
   ]
  },
  {
   "cell_type": "markdown",
   "metadata": {},
   "source": [
    "### Latitude and wind speed have no direct relationship."
   ]
  },
  {
   "cell_type": "markdown",
   "metadata": {},
   "source": [
    "## Linear Regression"
   ]
  },
  {
   "cell_type": "code",
   "execution_count": 17,
   "metadata": {},
   "outputs": [],
   "source": [
    "# y = mx + b  (b = intercept, m = slope, x,y remain the same)\n",
    "# r squared values range from 0 to 1 or 0% to 100%; the higher the r squared, the better the models fits the data\n",
    "\n",
    "# Create a function to create Linear Regression plots\n",
    "def plot_linear_regression(x_values, y_values, title, text_coordinates):\n",
    "    \n",
    "    # Run regresson on southern hemisphere\n",
    "    (slope, intercept, rvalue, pvalue, stderr) = linregress(x_values, y_values) \n",
    "    regress_values = x_values * slope + intercept\n",
    "    line_eq = \"y = \" + str(round(slope,2)) + \"x + \" + str(round(intercept,2))\n",
    "\n",
    "    # Plot\n",
    "    plt.scatter(x_values,y_values)\n",
    "    plt.plot(x_values,regress_values,\"r-\")\n",
    "    plt.annotate(line_eq,text_coordinates,fontsize=15,color=\"red\")\n",
    "    plt.xlabel('Latitude')\n",
    "    plt.ylabel(title)\n",
    "    print(f\"The r-squared is: {rvalue**2}\")\n",
    "    plt.show()"
   ]
  },
  {
   "cell_type": "code",
   "execution_count": 18,
   "metadata": {},
   "outputs": [],
   "source": [
    "# Create Northern and Southern Hemisphere DataFrames\n",
    "northern_hemi_df = city_data_df.loc[(city_data_df[\"Lat\"] >= 0)]\n",
    "southern_hemi_df = city_data_df.loc[(city_data_df[\"Lat\"] < 0)]"
   ]
  },
  {
   "cell_type": "markdown",
   "metadata": {},
   "source": [
    "## Max Temperature vs Latitude Linear Regression"
   ]
  },
  {
   "cell_type": "code",
   "execution_count": 19,
   "metadata": {},
   "outputs": [
    {
     "name": "stdout",
     "output_type": "stream",
     "text": [
      "The r-squared is: 0.4663842995693554\n"
     ]
    },
    {
     "data": {
      "image/png": "[encoded data removed]",
      "text/plain": [
       "<Figure size 432x288 with 1 Axes>"
      ]
     },
     "metadata": {
      "needs_background": "light"
     },
     "output_type": "display_data"
    }
   ],
   "source": [
    "# Linear regression on Northern Hemisphere\n",
    "x_values = northern_hemi_df[\"Lat\"]\n",
    "y_values = northern_hemi_df[\"Max Temp\"]\n",
    "plot_linear_regression(x_values, y_values, 'Max Temp',(6,30))"
   ]
  },
  {
   "cell_type": "markdown",
   "metadata": {},
   "source": [
    "### In the Northern Hemisphere there is a negative correlation between temperature and latitude. The further away from the equator (0 degrees latitude), the lower the temperature."
   ]
  },
  {
   "cell_type": "code",
   "execution_count": 20,
   "metadata": {},
   "outputs": [
    {
     "name": "stdout",
     "output_type": "stream",
     "text": [
      "The r-squared is: 0.6005548396746878\n"
     ]
    },
    {
     "data": {
      "image/png": "[encoded data removed]",
      "text/plain": [
       "<Figure size 432x288 with 1 Axes>"
      ]
     },
     "metadata": {
      "needs_background": "light"
     },
     "output_type": "display_data"
    }
   ],
   "source": [
    "# Linear regression on Southern Hemisphere\n",
    "x_values = southern_hemi_df[\"Lat\"]\n",
    "y_values = southern_hemi_df[\"Max Temp\"]\n",
    "plot_linear_regression(x_values, y_values, 'Max Temp', (-55, 90))"
   ]
  },
  {
   "cell_type": "markdown",
   "metadata": {},
   "source": [
    "### In the Southern Hemisphere there is a positive correlation between latitude and max temperature. The closer you get to the equator (0 degrees latitude), the higher the temperature."
   ]
  },
  {
   "cell_type": "markdown",
   "metadata": {},
   "source": [
    "## Humidity vs Latitude Linear Regression"
   ]
  },
  {
   "cell_type": "code",
   "execution_count": 21,
   "metadata": {},
   "outputs": [
    {
     "name": "stdout",
     "output_type": "stream",
     "text": [
      "The r-squared is: 0.0022785074847281373\n"
     ]
    },
    {
     "data": {
      "image/png": "[encoded data removed]",
      "text/plain": [
       "<Figure size 432x288 with 1 Axes>"
      ]
     },
     "metadata": {
      "needs_background": "light"
     },
     "output_type": "display_data"
    }
   ],
   "source": [
    "# Northern Hemisphere\n",
    "x_values = northern_hemi_df[\"Lat\"]\n",
    "y_values = northern_hemi_df[\"Humidity\"]\n",
    "plot_linear_regression(x_values, y_values, 'Humidity',(40,10))"
   ]
  },
  {
   "cell_type": "markdown",
   "metadata": {},
   "source": [
    "### In the Northern Hemisphere there is no correlation between humidity and latitude."
   ]
  },
  {
   "cell_type": "code",
   "execution_count": 22,
   "metadata": {},
   "outputs": [
    {
     "name": "stdout",
     "output_type": "stream",
     "text": [
      "The r-squared is: 0.0016696053211028208\n"
     ]
    },
    {
     "data": {
      "image/png": "[encoded data removed]",
      "text/plain": [
       "<Figure size 432x288 with 1 Axes>"
      ]
     },
     "metadata": {
      "needs_background": "light"
     },
     "output_type": "display_data"
    }
   ],
   "source": [
    "# Southern Hemisphere\n",
    "x_values = southern_hemi_df[\"Lat\"]\n",
    "y_values = southern_hemi_df[\"Humidity\"]\n",
    "plot_linear_regression(x_values, y_values, 'Humidity', (-50, 20))"
   ]
  },
  {
   "cell_type": "markdown",
   "metadata": {},
   "source": [
    "### In the Southern Hemisphere there is no correlation between humidity and latitude."
   ]
  },
  {
   "cell_type": "markdown",
   "metadata": {},
   "source": [
    "## Cloudiness (%) vs Latitude Linear Regression"
   ]
  },
  {
   "cell_type": "code",
   "execution_count": 23,
   "metadata": {},
   "outputs": [
    {
     "name": "stdout",
     "output_type": "stream",
     "text": [
      "The r-squared is: 0.003841708990540877\n"
     ]
    },
    {
     "data": {
      "image/png": "[encoded data removed]",
      "text/plain": [
       "<Figure size 432x288 with 1 Axes>"
      ]
     },
     "metadata": {
      "needs_background": "light"
     },
     "output_type": "display_data"
    }
   ],
   "source": [
    "# Northern Hemisphere\n",
    "x_values = northern_hemi_df[\"Lat\"]\n",
    "y_values = northern_hemi_df[\"Cloudiness\"]\n",
    "plot_linear_regression(x_values, y_values, 'Cloudiness', (40,10))"
   ]
  },
  {
   "cell_type": "markdown",
   "metadata": {},
   "source": [
    "### In the Northern Hemisphere there is no correlation between cloudiness and latitude."
   ]
  },
  {
   "cell_type": "code",
   "execution_count": 24,
   "metadata": {},
   "outputs": [
    {
     "name": "stdout",
     "output_type": "stream",
     "text": [
      "The r-squared is: 0.01098892753813793\n"
     ]
    },
    {
     "data": {
      "image/png": "[encoded data removed]",
      "text/plain": [
       "<Figure size 432x288 with 1 Axes>"
      ]
     },
     "metadata": {
      "needs_background": "light"
     },
     "output_type": "display_data"
    }
   ],
   "source": [
    "# Southern Hemisphere\n",
    "x_values = southern_hemi_df[\"Lat\"]\n",
    "y_values = southern_hemi_df[\"Cloudiness\"]\n",
    "plot_linear_regression(x_values, y_values, 'Cloudiness', (-30,30))"
   ]
  },
  {
   "cell_type": "markdown",
   "metadata": {},
   "source": [
    "### In the Southern Hemisphere there is no correlation between cloudiness and latitude."
   ]
  },
  {
   "cell_type": "markdown",
   "metadata": {},
   "source": [
    "## Wind Speed (mph) vs Latitude Linear Regression"
   ]
  },
  {
   "cell_type": "code",
   "execution_count": 25,
   "metadata": {},
   "outputs": [
    {
     "name": "stdout",
     "output_type": "stream",
     "text": [
      "The r-squared is: 0.0023119425369760725\n"
     ]
    },
    {
     "data": {
      "image/png": "[encoded data removed]",
      "text/plain": [
       "<Figure size 432x288 with 1 Axes>"
      ]
     },
     "metadata": {
      "needs_background": "light"
     },
     "output_type": "display_data"
    }
   ],
   "source": [
    "# Northern Hemisphere\n",
    "x_values = northern_hemi_df[\"Lat\"]\n",
    "y_values = northern_hemi_df[\"Wind Speed\"]\n",
    "plot_linear_regression(x_values, y_values, 'Wind Speed', (40,25))"
   ]
  },
  {
   "cell_type": "markdown",
   "metadata": {},
   "source": [
    "### In the Northern Hemisphere there is no correlation between windspeed and latitude."
   ]
  },
  {
   "cell_type": "code",
   "execution_count": 26,
   "metadata": {},
   "outputs": [
    {
     "name": "stdout",
     "output_type": "stream",
     "text": [
      "The r-squared is: 0.0003952586954865099\n"
     ]
    },
    {
     "data": {
      "image/png": "[encoded data removed]",
      "text/plain": [
       "<Figure size 432x288 with 1 Axes>"
      ]
     },
     "metadata": {
      "needs_background": "light"
     },
     "output_type": "display_data"
    }
   ],
   "source": [
    "# Southern Hemisphere\n",
    "x_values = southern_hemi_df[\"Lat\"]\n",
    "y_values = southern_hemi_df[\"Wind Speed\"]\n",
    "plot_linear_regression(x_values, y_values, 'Wind Speed', (-50, 20))"
   ]
  },
  {
   "cell_type": "markdown",
   "metadata": {},
   "source": [
    "### In the Souththern Hemisphere there is no correlation between wind speed and latitude."
   ]
  },
  {
   "cell_type": "code",
   "execution_count": null,
   "metadata": {},
   "outputs": [],
   "source": []
  }
 ],
 "metadata": {
  "kernelspec": {
   "display_name": "Python 3",
   "language": "python",
   "name": "python3"
  },
  "language_info": {
   "codemirror_mode": {
    "name": "ipython",
    "version": 3
   },
   "file_extension": ".py",
   "mimetype": "text/x-python",
   "name": "python",
   "nbconvert_exporter": "python",
   "pygments_lexer": "ipython3",
   "version": "3.7.6"
  }
 },
 "nbformat": 4,
 "nbformat_minor": 4
}
